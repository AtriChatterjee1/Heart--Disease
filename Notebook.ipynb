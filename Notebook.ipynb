{
 "cells": [
  {
   "cell_type": "markdown",
   "id": "715f3acb",
   "metadata": {},
   "source": [
    "# Project Details\n",
    "\n",
    "Problem Definition In a statement: \n",
    "**Given clinical parameters about a patient, can we predict whether or not they have heart disease?**\n",
    "\n",
    "* Data : The original data came from the Cleavland data from the UCI Machine Learning Repository. https://archive.ics.uci.edu/ml/datasets/heart+Disease\n",
    "* There is also a version of it available on Kaggle. https://www.kaggle.com/datasets/johnsmith88/heart-disease-dataset \n",
    "\n",
    "* Evaluation If we can reach 95% accuracy at predicting whether or not a patient has heart disease during the proof of concept, we'll pursue the project.\n",
    "\n",
    "* Features This is where you'll get different information about each of the features in your data. You can do this via doing your own research (such as looking at the links above) or by talking to a subject matter expert (someone who knows about the dataset)."
   ]
  },
  {
   "cell_type": "markdown",
   "id": "dc132414",
   "metadata": {},
   "source": [
    "## Features \n",
    "\n",
    "* age - age in years\n",
    "\n",
    "* sex - (1 = male; 0 = female)\n",
    "\n",
    "* cp - chest pain type\n",
    "0: Typical angina: chest pain related decrease blood supply to the heart \n",
    "1: Atypical angina: chest pain not related to heart\n",
    "2: Non-anginal pain: typically esophageal spasms (non heart related)\n",
    "3: Asymptomatic: chest pain not showing signs of disease\n",
    "\n",
    "* trestbps - resting blood pressure (in mm Hg on admission to the hospital) anything above 130-140 is typically cause for concern\n",
    "\n",
    "* chol - serum cholestoral in mg/dl\n",
    "\n",
    "* serum = LDL + HDL + .2 * triglycerides\n",
    " *above 200 is cause for concern*\n",
    "* fbs - (fasting blood sugar > 120 mg/dl) (1 = true; 0 = false)\n",
    "'>126' mg/dL signals diabetes\n",
    "\n",
    "* restecg - resting electrocardiographic results\n",
    "0: Nothing to note\n",
    "1: ST-T Wave abnormality\n",
    "can range from mild symptoms to severe problems\n",
    "signals non-normal heart beat\n",
    "2: Possible or definite left ventricular hypertrophy\n",
    "Enlarged heart's main pumping chamber\n",
    "\n",
    "* thalach - maximum heart rate achieved\n",
    "\n",
    "* exang - exercise induced angina (1 = yes; 0 = no)\n",
    "\n",
    "* oldpeak - ST depression induced by exercise relative to rest looks at stress of heart during excercise unhealthy heart will stress more\n",
    "\n",
    "* slope - the slope of the peak exercise ST segment\n",
    "0: Upsloping: better heart rate with excercise (uncommon)\n",
    "1: Flatsloping: minimal change (typical healthy heart)\n",
    "2: Downslopins: signs of unhealthy heart\n",
    "ca - number of major vessels (0-3) colored by flourosopy\n",
    "colored vessel means the doctor can see the blood passing through\n",
    "the more blood movement the better (no clots)\n",
    "thal - thalium stress result\n",
    "1,3: normal\n",
    "6: fixed defect: used to be defect but ok now\n",
    "7: reversable defect: no proper blood movement when excercising\n",
    "target - have disease or not (1=yes, 0=no) (= the predicted attribute)"
   ]
  },
  {
   "cell_type": "markdown",
   "id": "e43d76b2",
   "metadata": {},
   "source": [
    "### Importing Dependencies"
   ]
  },
  {
   "cell_type": "code",
   "execution_count": null,
   "id": "8899f9ca",
   "metadata": {},
   "outputs": [],
   "source": [
    "#Importing Libraries\n",
    "import numpy as np\n",
    "import sklearn\n",
    "import pandas as pd\n",
    "import matplotlib.pyplot as plt\n",
    "import seaborn as sns"
   ]
  },
  {
   "cell_type": "code",
   "execution_count": null,
   "id": "e9eb4c1c",
   "metadata": {},
   "outputs": [],
   "source": [
    "%matplotlib inline"
   ]
  },
  {
   "cell_type": "code",
   "execution_count": null,
   "id": "0ca6eac2",
   "metadata": {},
   "outputs": [],
   "source": [
    "#Models\n",
    "from sklearn.linear_model import LogisticRegression\n",
    "from sklearn.ensemble import RandomForestClassifier\n",
    "from sklearn.neighbors import KNeighborsClassifier\n",
    "\n",
    "#Model Evaluation\n",
    "from sklearn.model_selection import train_test_split , cross_val_score\n",
    "from sklearn.metrics import confusion_matrix , classification_report\n",
    "from sklearn.model_selection import RandomizedSearchCV , GridSearchCV\n",
    "from sklearn.metrics import precision_score , f1_score , recall_score , plot_roc_curve"
   ]
  },
  {
   "cell_type": "markdown",
   "id": "362dabbd",
   "metadata": {},
   "source": [
    "### Loading the Data \n",
    " "
   ]
  },
  {
   "cell_type": "code",
   "execution_count": null,
   "id": "3b0959f7",
   "metadata": {},
   "outputs": [],
   "source": [
    "df = pd.read_csv(\"heart-disease.csv\")\n",
    "df"
   ]
  },
  {
   "cell_type": "markdown",
   "id": "82534eff",
   "metadata": {},
   "source": [
    "# Data Exploration \n",
    "* Handling missing values and Outliers"
   ]
  },
  {
   "cell_type": "code",
   "execution_count": null,
   "id": "19a826c0",
   "metadata": {},
   "outputs": [],
   "source": [
    "df.info()"
   ]
  },
  {
   "cell_type": "code",
   "execution_count": null,
   "id": "e96d7ef2",
   "metadata": {},
   "outputs": [],
   "source": [
    "df.describe()"
   ]
  },
  {
   "cell_type": "code",
   "execution_count": null,
   "id": "635f8ef1",
   "metadata": {},
   "outputs": [],
   "source": [
    "df.shape"
   ]
  },
  {
   "cell_type": "code",
   "execution_count": null,
   "id": "e83461c3",
   "metadata": {},
   "outputs": [],
   "source": [
    "df.tail()"
   ]
  },
  {
   "cell_type": "markdown",
   "id": "c3d7ce34",
   "metadata": {},
   "source": [
    "## Visualizing and Finding Patterns in Data"
   ]
  },
  {
   "cell_type": "code",
   "execution_count": null,
   "id": "5719ab52",
   "metadata": {},
   "outputs": [],
   "source": [
    "#Let's find out how many of each class are there\n",
    "df[\"target\"].value_counts()"
   ]
  },
  {
   "cell_type": "code",
   "execution_count": null,
   "id": "16017b6f",
   "metadata": {},
   "outputs": [],
   "source": [
    "df.head()"
   ]
  },
  {
   "cell_type": "code",
   "execution_count": null,
   "id": "33679a3f",
   "metadata": {},
   "outputs": [],
   "source": [
    "df.tail()"
   ]
  },
  {
   "cell_type": "code",
   "execution_count": null,
   "id": "4ea63b13",
   "metadata": {},
   "outputs": [],
   "source": [
    "df.sex.value_counts()"
   ]
  },
  {
   "cell_type": "code",
   "execution_count": null,
   "id": "1683581c",
   "metadata": {},
   "outputs": [],
   "source": [
    "#Checking how sex corresponds to the target column\n",
    "pd.crosstab(df.sex , df.target)"
   ]
  },
  {
   "cell_type": "code",
   "execution_count": null,
   "id": "c56c0d9a",
   "metadata": {},
   "outputs": [],
   "source": [
    "pd.crosstab(df.target , df.sex).plot(kind = \"bar\", color = [\"salmon\" , \"lightblue\"], figsize = (10,5), title = \"How Gender correlates to Heart Disease\" , ylabel = \"Count\")"
   ]
  },
  {
   "cell_type": "code",
   "execution_count": null,
   "id": "765a2a89",
   "metadata": {},
   "outputs": [],
   "source": [
    "#Comparing Age vs Maximum Heart Rate\n",
    "plt.figure(figsize = (10,6))\n",
    "\n",
    "#Using scatter plot to plot age vs maximum heart rate for target = 1\n",
    "plt.scatter(df.age[df.target == 1],\n",
    "           df.thalach[df.target == 1],\n",
    "           color = \"salmon\")\n",
    "#Using scatter plot to plot age vs maximum heart rate for target = 0\n",
    "plt.scatter (df.age[df.target == 0], df.thalach[df.target ==0] , color = \"lightblue\")\n",
    "plt.title(\"Heart Disease in function of Age and Maximum Heart Rate\")\n",
    "plt.xlabel(\"Age\")\n",
    "plt.ylabel(\"Maximum Heart Rate\")"
   ]
  },
  {
   "cell_type": "code",
   "execution_count": null,
   "id": "f476eefb",
   "metadata": {},
   "outputs": [],
   "source": [
    "df.corr()"
   ]
  },
  {
   "cell_type": "code",
   "execution_count": null,
   "id": "ba329292",
   "metadata": {
    "scrolled": false
   },
   "outputs": [],
   "source": [
    "# Visualising Graphically\n",
    "corr_matrix = df.corr()\n",
    "fig , ax = plt.subplots(figsize = (12,7))\n",
    "ax = sns.heatmap(corr_matrix , annot = True , linewidths = 0.5 , fmt = \".2f\", cmap = sns.cubehelix_palette(as_cmap=True))"
   ]
  },
  {
   "cell_type": "markdown",
   "id": "505b3d91",
   "metadata": {},
   "source": [
    "## Modelling "
   ]
  },
  {
   "cell_type": "code",
   "execution_count": null,
   "id": "2ec9631f",
   "metadata": {},
   "outputs": [],
   "source": [
    "#Spliting the dataset\n",
    "X = df.drop(\"target\" , axis = 1)\n",
    "y = df[\"target\"]\n",
    "\n",
    "#setting the random seed\n",
    "np.random.seed(42)\n",
    "\n",
    "#Splitting the data\n",
    "X_train, X_test, y_train , y_test = train_test_split(X,y , test_size = 0.2, stratify = y)"
   ]
  },
  {
   "cell_type": "code",
   "execution_count": null,
   "id": "b876434a",
   "metadata": {},
   "outputs": [],
   "source": [
    "X"
   ]
  },
  {
   "cell_type": "code",
   "execution_count": null,
   "id": "89e9a1e3",
   "metadata": {},
   "outputs": [],
   "source": [
    "y_train"
   ]
  },
  {
   "cell_type": "code",
   "execution_count": null,
   "id": "be6f0253",
   "metadata": {},
   "outputs": [],
   "source": [
    "X_train "
   ]
  },
  {
   "cell_type": "markdown",
   "id": "ace86406",
   "metadata": {},
   "source": [
    "## Training the Model"
   ]
  },
  {
   "cell_type": "markdown",
   "id": "7630ab4e",
   "metadata": {},
   "source": [
    "Using Reference from https://scikit-learn.org/stable/tutorial/machine_learning_map/index.html \n",
    "\n",
    "*We are going to use three models:* \n",
    "\n",
    "> 1.  Logistic Regression\n",
    "> 2. K-Nearest Neighbour Classifier\n",
    "> 3. Random Forest Classifier\n",
    "> 4. Decision Tree Classifier\n",
    "> 5. Naive Bayes Classifier"
   ]
  },
  {
   "cell_type": "code",
   "execution_count": null,
   "id": "e8dbba06",
   "metadata": {},
   "outputs": [],
   "source": [
    "#Creating an empty list to store model scores \n",
    "model_scores = []\n"
   ]
  },
  {
   "cell_type": "markdown",
   "id": "22b606d8",
   "metadata": {},
   "source": [
    "### Logistic Regression"
   ]
  },
  {
   "cell_type": "code",
   "execution_count": null,
   "id": "e1707e5d",
   "metadata": {},
   "outputs": [],
   "source": [
    "Logistic_clf = LogisticRegression()\n",
    "Logistic_clf.fit(X_train , y_train)\n",
    "model_scores.append(Logistic_clf.score(X_test , y_test))\n",
    "Logistic_clf.score(X_test , y_test)"
   ]
  },
  {
   "cell_type": "markdown",
   "id": "ee786602",
   "metadata": {},
   "source": [
    "### KNN Classifier"
   ]
  },
  {
   "cell_type": "code",
   "execution_count": null,
   "id": "d3d13053",
   "metadata": {},
   "outputs": [],
   "source": [
    "KNN_clf = KNeighborsClassifier(n_neighbors = 4)\n",
    "KNN_clf.fit(X_train , y_train)\n",
    "\n",
    "model_scores.append(KNN_clf.score(X_test , y_test))\n",
    "KNN_clf.score(X_test , y_test)"
   ]
  },
  {
   "cell_type": "markdown",
   "id": "cbd697c1",
   "metadata": {},
   "source": [
    "### Random Forest Classifier "
   ]
  },
  {
   "cell_type": "code",
   "execution_count": null,
   "id": "92ea4129",
   "metadata": {},
   "outputs": [],
   "source": [
    "RandomForest_clf = RandomForestClassifier(n_estimators = 100)\n",
    "RandomForest_clf.fit(X_train , y_train )\n",
    "model_scores.append(RandomForest_clf.score(X_test , y_test))\n",
    "RandomForest_clf.score(X_test , y_test)"
   ]
  },
  {
   "cell_type": "markdown",
   "id": "514415c4",
   "metadata": {},
   "source": [
    "### Decision Tree "
   ]
  },
  {
   "cell_type": "code",
   "execution_count": null,
   "id": "a58330b7",
   "metadata": {},
   "outputs": [],
   "source": [
    "from sklearn.tree import DecisionTreeClassifier\n",
    "\n",
    "tree = DecisionTreeClassifier(max_depth=8, random_state=0)\n",
    "tree.fit(X_train, y_train)\n",
    "\n",
    "model_scores.append(tree.score(X_test, y_test))\n",
    "tree.score(X_test, y_test)"
   ]
  },
  {
   "cell_type": "markdown",
   "id": "ff260d31",
   "metadata": {},
   "source": [
    "### Naive Bayes"
   ]
  },
  {
   "cell_type": "code",
   "execution_count": null,
   "id": "7da18238",
   "metadata": {},
   "outputs": [],
   "source": [
    "from sklearn.naive_bayes import GaussianNB  \n",
    "NaiveBayes_clf = GaussianNB()  \n",
    "NaiveBayes_clf.fit(X_train, y_train)\n",
    "model_scores.append(NaiveBayes_clf.score(X_test , y_test))\n",
    "NaiveBayes_clf.score(X_test, y_test)"
   ]
  },
  {
   "cell_type": "code",
   "execution_count": null,
   "id": "b41a59a3",
   "metadata": {},
   "outputs": [],
   "source": [
    "model_scores"
   ]
  },
  {
   "cell_type": "code",
   "execution_count": null,
   "id": "3b813336",
   "metadata": {},
   "outputs": [],
   "source": [
    "train_scores = []\n",
    "test_scores = []\n",
    "neighbors = range(1,100)\n",
    "knn_clf = KNeighborsClassifier()\n",
    "# Tuning Hyperparameters of KNN \n",
    "for i in range(1,100):\n",
    "    knn_clf.set_params(n_neighbors = i)\n",
    "    knn_clf.fit(X_train , y_train)\n",
    "    train_scores.append(knn_clf.score(X_train , y_train))\n",
    "    test_scores.append(knn_clf.score(X_test, y_test))\n"
   ]
  },
  {
   "cell_type": "code",
   "execution_count": null,
   "id": "61342cc9",
   "metadata": {},
   "outputs": [],
   "source": [
    "train_scores"
   ]
  },
  {
   "cell_type": "code",
   "execution_count": null,
   "id": "c864e732",
   "metadata": {},
   "outputs": [],
   "source": [
    "test_scores"
   ]
  },
  {
   "cell_type": "code",
   "execution_count": null,
   "id": "098c0200",
   "metadata": {},
   "outputs": [],
   "source": [
    "plt.plot(neighbors, train_scores , label  = \"Train Scores\" , color = \"Salmon\")\n",
    "plt.plot(neighbors, test_scores , label  = \"Test Scores\" , color = \"blue\")\n",
    "plt.xticks(np.arange(1, 100 , 5))\n",
    "plt.legend()\n",
    "plt.xlabel(\"Number of Neighbours\")\n",
    "plt.ylabel(\"Model Score\")"
   ]
  },
  {
   "cell_type": "markdown",
   "id": "8f353b7d",
   "metadata": {},
   "source": [
    "## Tuning Hyperparameters using Randomized SearchCV"
   ]
  },
  {
   "cell_type": "code",
   "execution_count": null,
   "id": "bd78918a",
   "metadata": {},
   "outputs": [],
   "source": [
    "#generating grid space for logistic regression \n",
    "log_reg_grid = {\"C\" : np.logspace(-4,4,20) , \n",
    "               \"solver\" : [\"liblinear\"]}\n",
    "\n",
    "#Creating Grid for Random Forest \n",
    "rf_grid = {\"n_estimators\" : np.arange(10,1000 , 50) , \n",
    "          \"max_depth\" : [None, 3 ,5 , 10] ,\n",
    "          \"min_samples_split\" : np.arange(1,20,2) ,\n",
    "          \"min_samples_leaf\": np.arange(2 ,20, 2)}"
   ]
  },
  {
   "cell_type": "code",
   "execution_count": null,
   "id": "df3a63f8",
   "metadata": {},
   "outputs": [],
   "source": [
    "#Tune Logistic Regression \n",
    "np.random.seed(42)\n",
    "\n",
    "rs_log_reg = RandomizedSearchCV(LogisticRegression(),\n",
    "                                param_distributions = log_reg_grid ,\n",
    "                               cv = 5 ,\n",
    "                               n_iter = 20 ,\n",
    "                               verbose = True)\n",
    "#Fitting the model\n",
    "rs_log_reg.fit(X_train , y_train)\n",
    "rs_log_reg.score(X_test, y_test)"
   ]
  },
  {
   "cell_type": "code",
   "execution_count": null,
   "id": "00f51139",
   "metadata": {},
   "outputs": [],
   "source": [
    "rs_log_reg.best_params_"
   ]
  },
  {
   "cell_type": "code",
   "execution_count": null,
   "id": "9e5661af",
   "metadata": {},
   "outputs": [],
   "source": [
    "#Tune Logistic Regression \n",
    "np.random.seed(42)\n",
    "\n",
    "rs_rf = RandomizedSearchCV(RandomForestClassifier(),\n",
    "                                param_distributions = rf_grid ,\n",
    "                               cv = 5 ,\n",
    "                               n_iter = 20 ,\n",
    "                               verbose = True)\n",
    "#Fitting the model\n",
    "rs_rf.fit(X_train , y_train)\n",
    "rs_rf.score(X_test, y_test)"
   ]
  },
  {
   "cell_type": "code",
   "execution_count": null,
   "id": "fc05ecfb",
   "metadata": {},
   "outputs": [],
   "source": [
    "rs_rf.best_params_"
   ]
  },
  {
   "cell_type": "code",
   "execution_count": null,
   "id": "15f5dc4e",
   "metadata": {},
   "outputs": [],
   "source": [
    "param_grid_nb = {\n",
    "    'var_smoothing': np.logspace(0,-9, num=100)\n",
    "}\n",
    "nbModel_grid = RandomizedSearchCV(estimator=GaussianNB(), param_distributions=param_grid_nb, verbose=1, cv=10, n_jobs=-1 , n_iter = 20)\n",
    "\n",
    "nbModel_grid.fit(X_train, y_train)"
   ]
  },
  {
   "cell_type": "code",
   "execution_count": null,
   "id": "2344ba89",
   "metadata": {},
   "outputs": [],
   "source": [
    "nbModel_grid.score(X_test , y_test)"
   ]
  },
  {
   "cell_type": "code",
   "execution_count": null,
   "id": "e33a7ffc",
   "metadata": {},
   "outputs": [],
   "source": [
    "np.random.seed(42)\n",
    "\n",
    "rs_log_reg = RandomizedSearchCV(LogisticRegression(),\n",
    "                                param_distributions = log_reg_grid ,\n",
    "                               cv = 5 ,\n",
    "                               n_iter = 20 ,\n",
    "                               verbose = True)\n",
    "#Fitting the model\n",
    "rs_log_reg.fit(X_train , y_train)\n",
    "rs_log_reg.score(X_test, y_test) "
   ]
  },
  {
   "cell_type": "markdown",
   "id": "34c746b7",
   "metadata": {},
   "source": [
    "## GridSearchCV "
   ]
  },
  {
   "cell_type": "code",
   "execution_count": null,
   "id": "714437ae",
   "metadata": {},
   "outputs": [],
   "source": [
    "#Creating Grid for Logical Regression\n",
    "log_reg_grid = {\"C\" : np.logspace(-4 ,4 ,20) ,\n",
    "               \"solver\" : [\"liblinear\"]}\n",
    "#Creating Grid for Random Forest\n",
    "rf_grid = {\"n_estimators\" : np.arange(10 , 1000 , 50), \n",
    "           \"max_depth\" : [None, 3 , 5 ,10] , \n",
    "           \"min_samples_split\" : np.arange(2 ,20 ,2) ,\n",
    "           \"min_samples_leaf\" : np.arange(1,20,2)}\n"
   ]
  },
  {
   "cell_type": "code",
   "execution_count": null,
   "id": "ca879e62",
   "metadata": {},
   "outputs": [],
   "source": [
    "#Setup Grid hyper parameter for Logical Regression \n",
    "gs_log_Reg = GridSearchCV(LogisticRegression(),\n",
    "                         param_grid = log_reg_grid ,\n",
    "                         cv=5 ,\n",
    "                         verbose = True)\n",
    "\n",
    "gs_log_Reg.fit(X_train, y_train)\n",
    "gs_log_Reg.score(X_test , y_test)"
   ]
  },
  {
   "cell_type": "code",
   "execution_count": null,
   "id": "800e2a24",
   "metadata": {},
   "outputs": [],
   "source": [
    "gs_log_Reg.best_params_\n"
   ]
  },
  {
   "cell_type": "code",
   "execution_count": null,
   "id": "4a0f2d42",
   "metadata": {},
   "outputs": [],
   "source": []
  },
  {
   "cell_type": "code",
   "execution_count": null,
   "id": "44b248e2",
   "metadata": {},
   "outputs": [],
   "source": []
  },
  {
   "cell_type": "markdown",
   "id": "83200f3c",
   "metadata": {},
   "source": [
    "## Evaluating Models \n",
    "\n",
    "* ROC curve and AUC score\n",
    "* Confusion Matrix\n",
    "* Classification Report\n",
    "* Precision\n",
    "* Recall\n",
    "* F1 score"
   ]
  },
  {
   "cell_type": "code",
   "execution_count": null,
   "id": "0c7dbac0",
   "metadata": {},
   "outputs": [],
   "source": [
    "y_preds = rs_rf.predict(X_test)"
   ]
  },
  {
   "cell_type": "code",
   "execution_count": null,
   "id": "4266e682",
   "metadata": {},
   "outputs": [],
   "source": []
  }
 ],
 "metadata": {
  "kernelspec": {
   "display_name": "Python 3 (ipykernel)",
   "language": "python",
   "name": "python3"
  },
  "language_info": {
   "codemirror_mode": {
    "name": "ipython",
    "version": 3
   },
   "file_extension": ".py",
   "mimetype": "text/x-python",
   "name": "python",
   "nbconvert_exporter": "python",
   "pygments_lexer": "ipython3",
   "version": "3.9.13"
  }
 },
 "nbformat": 4,
 "nbformat_minor": 5
}
