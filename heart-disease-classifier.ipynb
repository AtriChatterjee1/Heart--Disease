{
 "cells": [
  {
   "cell_type": "markdown",
   "id": "08d7631f",
   "metadata": {
    "papermill": {
     "duration": 0.014704,
     "end_time": "2023-04-12T11:53:06.430503",
     "exception": false,
     "start_time": "2023-04-12T11:53:06.415799",
     "status": "completed"
    },
    "tags": []
   },
   "source": [
    "# Project Details\n",
    "\n",
    "Problem Definition In a statement: \n",
    "**Given clinical parameters about a patient, can we predict whether or not they have heart disease?**\n",
    "\n",
    "* Data : The original data came from the Cleavland data from the UCI Machine Learning Repository. https://archive.ics.uci.edu/ml/datasets/heart+Disease\n",
    "\n",
    "* Evaluation If we can reach 95% accuracy at predicting whether or not a patient has heart disease during the proof of concept, we'll pursue the project.\n",
    "\n",
    "* Features This is where you'll get different information about each of the features in your data. You can do this via doing your own research (such as looking at the links above) or by talking to a subject matter expert (someone who knows about the dataset)."
   ]
  },
  {
   "cell_type": "markdown",
   "id": "870344ac",
   "metadata": {
    "papermill": {
     "duration": 0.014759,
     "end_time": "2023-04-12T11:53:06.458662",
     "exception": false,
     "start_time": "2023-04-12T11:53:06.443903",
     "status": "completed"
    },
    "tags": []
   },
   "source": [
    "## Features \n",
    "\n",
    "* age - age in years\n",
    "\n",
    "* sex - (1 = male; 0 = female)\n",
    "\n",
    "* cp - chest pain type\n",
    "0: Typical angina: chest pain related decrease blood supply to the heart \n",
    "1: Atypical angina: chest pain not related to heart\n",
    "2: Non-anginal pain: typically esophageal spasms (non heart related)\n",
    "3: Asymptomatic: chest pain not showing signs of disease\n",
    "\n",
    "* trestbps - resting blood pressure (in mm Hg on admission to the hospital) anything above 130-140 is typically cause for concern\n",
    "\n",
    "* chol - serum cholestoral in mg/dl\n",
    "\n",
    "* serum = LDL + HDL + .2 * triglycerides\n",
    " *above 200 is cause for concern*\n",
    "* fbs - (fasting blood sugar > 120 mg/dl) (1 = true; 0 = false)\n",
    "'>126' mg/dL signals diabetes\n",
    "\n",
    "* restecg - resting electrocardiographic results\n",
    "0: Nothing to note\n",
    "1: ST-T Wave abnormality\n",
    "can range from mild symptoms to severe problems\n",
    "signals non-normal heart beat\n",
    "2: Possible or definite left ventricular hypertrophy\n",
    "Enlarged heart's main pumping chamber\n",
    "\n",
    "* thalach - maximum heart rate achieved\n",
    "\n",
    "* exang - exercise induced angina (1 = yes; 0 = no)\n",
    "\n",
    "* oldpeak - ST depression induced by exercise relative to rest looks at stress of heart during excercise unhealthy heart will stress more\n",
    "\n",
    "* slope - the slope of the peak exercise ST segment\n",
    "0: Upsloping: better heart rate with excercise (uncommon)\n",
    "1: Flatsloping: minimal change (typical healthy heart)\n",
    "2: Downslopins: signs of unhealthy heart\n",
    "ca - number of major vessels (0-3) colored by flourosopy\n",
    "colored vessel means the doctor can see the blood passing through\n",
    "the more blood movement the better (no clots)\n",
    "thal - thalium stress result\n",
    "1,3: normal\n",
    "6: fixed defect: used to be defect but ok now\n",
    "7: reversable defect: no proper blood movement when excercising\n",
    "target - have disease or not (1=yes, 0=no) (= the predicted attribute)"
   ]
  },
  {
   "cell_type": "markdown",
   "id": "048ae104",
   "metadata": {
    "papermill": {
     "duration": 0.013087,
     "end_time": "2023-04-12T11:53:06.485145",
     "exception": false,
     "start_time": "2023-04-12T11:53:06.472058",
     "status": "completed"
    },
    "tags": []
   },
   "source": [
    "### Importing Dependencies"
   ]
  },
  {
   "cell_type": "code",
   "execution_count": 1,
   "id": "b9eaa01b",
   "metadata": {
    "execution": {
     "iopub.execute_input": "2023-04-12T11:53:06.514129Z",
     "iopub.status.busy": "2023-04-12T11:53:06.512878Z",
     "iopub.status.idle": "2023-04-12T11:53:07.502217Z",
     "shell.execute_reply": "2023-04-12T11:53:07.501072Z"
    },
    "papermill": {
     "duration": 1.006464,
     "end_time": "2023-04-12T11:53:07.504864",
     "exception": false,
     "start_time": "2023-04-12T11:53:06.498400",
     "status": "completed"
    },
    "tags": []
   },
   "outputs": [],
   "source": [
    "#Importing Libraries\n",
    "import numpy as np\n",
    "import sklearn\n",
    "import pandas as pd\n",
    "import matplotlib.pyplot as plt\n",
    "import seaborn as sns"
   ]
  },
  {
   "cell_type": "code",
   "execution_count": 2,
   "id": "a4c5d247",
   "metadata": {
    "execution": {
     "iopub.execute_input": "2023-04-12T11:53:07.534096Z",
     "iopub.status.busy": "2023-04-12T11:53:07.533497Z",
     "iopub.status.idle": "2023-04-12T11:53:07.539082Z",
     "shell.execute_reply": "2023-04-12T11:53:07.538026Z"
    },
    "papermill": {
     "duration": 0.022855,
     "end_time": "2023-04-12T11:53:07.541466",
     "exception": false,
     "start_time": "2023-04-12T11:53:07.518611",
     "status": "completed"
    },
    "tags": []
   },
   "outputs": [],
   "source": [
    "%matplotlib inline"
   ]
  },
  {
   "cell_type": "code",
   "execution_count": 3,
   "id": "c2d15678",
   "metadata": {
    "execution": {
     "iopub.execute_input": "2023-04-12T11:53:07.570236Z",
     "iopub.status.busy": "2023-04-12T11:53:07.568793Z",
     "iopub.status.idle": "2023-04-12T11:53:07.891905Z",
     "shell.execute_reply": "2023-04-12T11:53:07.890906Z"
    },
    "papermill": {
     "duration": 0.339933,
     "end_time": "2023-04-12T11:53:07.894583",
     "exception": false,
     "start_time": "2023-04-12T11:53:07.554650",
     "status": "completed"
    },
    "tags": []
   },
   "outputs": [],
   "source": [
    "#Models\n",
    "from sklearn.linear_model import LogisticRegression\n",
    "from sklearn.ensemble import RandomForestClassifier\n",
    "from sklearn.neighbors import KNeighborsClassifier\n",
    "\n",
    "#Model Evaluation\n",
    "from sklearn.model_selection import train_test_split , cross_val_score\n",
    "from sklearn.metrics import confusion_matrix , classification_report\n",
    "from sklearn.model_selection import RandomizedSearchCV , GridSearchCV\n",
    "from sklearn.metrics import precision_score , f1_score , recall_score , plot_roc_curve"
   ]
  },
  {
   "cell_type": "markdown",
   "id": "38a1669e",
   "metadata": {
    "papermill": {
     "duration": 0.013128,
     "end_time": "2023-04-12T11:53:07.921295",
     "exception": false,
     "start_time": "2023-04-12T11:53:07.908167",
     "status": "completed"
    },
    "tags": []
   },
   "source": [
    "### Loading the Data \n",
    " "
   ]
  },
  {
   "cell_type": "code",
   "execution_count": 4,
   "id": "4b238471",
   "metadata": {
    "execution": {
     "iopub.execute_input": "2023-04-12T11:53:07.949682Z",
     "iopub.status.busy": "2023-04-12T11:53:07.948926Z",
     "iopub.status.idle": "2023-04-12T11:53:07.985041Z",
     "shell.execute_reply": "2023-04-12T11:53:07.983927Z"
    },
    "papermill": {
     "duration": 0.05296,
     "end_time": "2023-04-12T11:53:07.987660",
     "exception": false,
     "start_time": "2023-04-12T11:53:07.934700",
     "status": "completed"
    },
    "tags": []
   },
   "outputs": [
    {
     "data": {
      "text/html": [
       "<div>\n",
       "<style scoped>\n",
       "    .dataframe tbody tr th:only-of-type {\n",
       "        vertical-align: middle;\n",
       "    }\n",
       "\n",
       "    .dataframe tbody tr th {\n",
       "        vertical-align: top;\n",
       "    }\n",
       "\n",
       "    .dataframe thead th {\n",
       "        text-align: right;\n",
       "    }\n",
       "</style>\n",
       "<table border=\"1\" class=\"dataframe\">\n",
       "  <thead>\n",
       "    <tr style=\"text-align: right;\">\n",
       "      <th></th>\n",
       "      <th>age</th>\n",
       "      <th>sex</th>\n",
       "      <th>cp</th>\n",
       "      <th>trestbps</th>\n",
       "      <th>chol</th>\n",
       "      <th>fbs</th>\n",
       "      <th>restecg</th>\n",
       "      <th>thalach</th>\n",
       "      <th>exang</th>\n",
       "      <th>oldpeak</th>\n",
       "      <th>slope</th>\n",
       "      <th>ca</th>\n",
       "      <th>thal</th>\n",
       "      <th>target</th>\n",
       "    </tr>\n",
       "  </thead>\n",
       "  <tbody>\n",
       "    <tr>\n",
       "      <th>0</th>\n",
       "      <td>63</td>\n",
       "      <td>1</td>\n",
       "      <td>3</td>\n",
       "      <td>145</td>\n",
       "      <td>233</td>\n",
       "      <td>1</td>\n",
       "      <td>0</td>\n",
       "      <td>150</td>\n",
       "      <td>0</td>\n",
       "      <td>2.3</td>\n",
       "      <td>0</td>\n",
       "      <td>0</td>\n",
       "      <td>1</td>\n",
       "      <td>1</td>\n",
       "    </tr>\n",
       "    <tr>\n",
       "      <th>1</th>\n",
       "      <td>37</td>\n",
       "      <td>1</td>\n",
       "      <td>2</td>\n",
       "      <td>130</td>\n",
       "      <td>250</td>\n",
       "      <td>0</td>\n",
       "      <td>1</td>\n",
       "      <td>187</td>\n",
       "      <td>0</td>\n",
       "      <td>3.5</td>\n",
       "      <td>0</td>\n",
       "      <td>0</td>\n",
       "      <td>2</td>\n",
       "      <td>1</td>\n",
       "    </tr>\n",
       "    <tr>\n",
       "      <th>2</th>\n",
       "      <td>41</td>\n",
       "      <td>0</td>\n",
       "      <td>1</td>\n",
       "      <td>130</td>\n",
       "      <td>204</td>\n",
       "      <td>0</td>\n",
       "      <td>0</td>\n",
       "      <td>172</td>\n",
       "      <td>0</td>\n",
       "      <td>1.4</td>\n",
       "      <td>2</td>\n",
       "      <td>0</td>\n",
       "      <td>2</td>\n",
       "      <td>1</td>\n",
       "    </tr>\n",
       "    <tr>\n",
       "      <th>3</th>\n",
       "      <td>56</td>\n",
       "      <td>1</td>\n",
       "      <td>1</td>\n",
       "      <td>120</td>\n",
       "      <td>236</td>\n",
       "      <td>0</td>\n",
       "      <td>1</td>\n",
       "      <td>178</td>\n",
       "      <td>0</td>\n",
       "      <td>0.8</td>\n",
       "      <td>2</td>\n",
       "      <td>0</td>\n",
       "      <td>2</td>\n",
       "      <td>1</td>\n",
       "    </tr>\n",
       "    <tr>\n",
       "      <th>4</th>\n",
       "      <td>57</td>\n",
       "      <td>0</td>\n",
       "      <td>0</td>\n",
       "      <td>120</td>\n",
       "      <td>354</td>\n",
       "      <td>0</td>\n",
       "      <td>1</td>\n",
       "      <td>163</td>\n",
       "      <td>1</td>\n",
       "      <td>0.6</td>\n",
       "      <td>2</td>\n",
       "      <td>0</td>\n",
       "      <td>2</td>\n",
       "      <td>1</td>\n",
       "    </tr>\n",
       "    <tr>\n",
       "      <th>...</th>\n",
       "      <td>...</td>\n",
       "      <td>...</td>\n",
       "      <td>...</td>\n",
       "      <td>...</td>\n",
       "      <td>...</td>\n",
       "      <td>...</td>\n",
       "      <td>...</td>\n",
       "      <td>...</td>\n",
       "      <td>...</td>\n",
       "      <td>...</td>\n",
       "      <td>...</td>\n",
       "      <td>...</td>\n",
       "      <td>...</td>\n",
       "      <td>...</td>\n",
       "    </tr>\n",
       "    <tr>\n",
       "      <th>298</th>\n",
       "      <td>57</td>\n",
       "      <td>0</td>\n",
       "      <td>0</td>\n",
       "      <td>140</td>\n",
       "      <td>241</td>\n",
       "      <td>0</td>\n",
       "      <td>1</td>\n",
       "      <td>123</td>\n",
       "      <td>1</td>\n",
       "      <td>0.2</td>\n",
       "      <td>1</td>\n",
       "      <td>0</td>\n",
       "      <td>3</td>\n",
       "      <td>0</td>\n",
       "    </tr>\n",
       "    <tr>\n",
       "      <th>299</th>\n",
       "      <td>45</td>\n",
       "      <td>1</td>\n",
       "      <td>3</td>\n",
       "      <td>110</td>\n",
       "      <td>264</td>\n",
       "      <td>0</td>\n",
       "      <td>1</td>\n",
       "      <td>132</td>\n",
       "      <td>0</td>\n",
       "      <td>1.2</td>\n",
       "      <td>1</td>\n",
       "      <td>0</td>\n",
       "      <td>3</td>\n",
       "      <td>0</td>\n",
       "    </tr>\n",
       "    <tr>\n",
       "      <th>300</th>\n",
       "      <td>68</td>\n",
       "      <td>1</td>\n",
       "      <td>0</td>\n",
       "      <td>144</td>\n",
       "      <td>193</td>\n",
       "      <td>1</td>\n",
       "      <td>1</td>\n",
       "      <td>141</td>\n",
       "      <td>0</td>\n",
       "      <td>3.4</td>\n",
       "      <td>1</td>\n",
       "      <td>2</td>\n",
       "      <td>3</td>\n",
       "      <td>0</td>\n",
       "    </tr>\n",
       "    <tr>\n",
       "      <th>301</th>\n",
       "      <td>57</td>\n",
       "      <td>1</td>\n",
       "      <td>0</td>\n",
       "      <td>130</td>\n",
       "      <td>131</td>\n",
       "      <td>0</td>\n",
       "      <td>1</td>\n",
       "      <td>115</td>\n",
       "      <td>1</td>\n",
       "      <td>1.2</td>\n",
       "      <td>1</td>\n",
       "      <td>1</td>\n",
       "      <td>3</td>\n",
       "      <td>0</td>\n",
       "    </tr>\n",
       "    <tr>\n",
       "      <th>302</th>\n",
       "      <td>57</td>\n",
       "      <td>0</td>\n",
       "      <td>1</td>\n",
       "      <td>130</td>\n",
       "      <td>236</td>\n",
       "      <td>0</td>\n",
       "      <td>0</td>\n",
       "      <td>174</td>\n",
       "      <td>0</td>\n",
       "      <td>0.0</td>\n",
       "      <td>1</td>\n",
       "      <td>1</td>\n",
       "      <td>2</td>\n",
       "      <td>0</td>\n",
       "    </tr>\n",
       "  </tbody>\n",
       "</table>\n",
       "<p>303 rows × 14 columns</p>\n",
       "</div>"
      ],
      "text/plain": [
       "     age  sex  cp  trestbps  chol  fbs  restecg  thalach  exang  oldpeak  \\\n",
       "0     63    1   3       145   233    1        0      150      0      2.3   \n",
       "1     37    1   2       130   250    0        1      187      0      3.5   \n",
       "2     41    0   1       130   204    0        0      172      0      1.4   \n",
       "3     56    1   1       120   236    0        1      178      0      0.8   \n",
       "4     57    0   0       120   354    0        1      163      1      0.6   \n",
       "..   ...  ...  ..       ...   ...  ...      ...      ...    ...      ...   \n",
       "298   57    0   0       140   241    0        1      123      1      0.2   \n",
       "299   45    1   3       110   264    0        1      132      0      1.2   \n",
       "300   68    1   0       144   193    1        1      141      0      3.4   \n",
       "301   57    1   0       130   131    0        1      115      1      1.2   \n",
       "302   57    0   1       130   236    0        0      174      0      0.0   \n",
       "\n",
       "     slope  ca  thal  target  \n",
       "0        0   0     1       1  \n",
       "1        0   0     2       1  \n",
       "2        2   0     2       1  \n",
       "3        2   0     2       1  \n",
       "4        2   0     2       1  \n",
       "..     ...  ..   ...     ...  \n",
       "298      1   0     3       0  \n",
       "299      1   0     3       0  \n",
       "300      1   2     3       0  \n",
       "301      1   1     3       0  \n",
       "302      1   1     2       0  \n",
       "\n",
       "[303 rows x 14 columns]"
      ]
     },
     "execution_count": 4,
     "metadata": {},
     "output_type": "execute_result"
    }
   ],
   "source": [
    "df = pd.read_csv(\"/kaggle/input/heartdiseasecsv/heart-disease.csv\")\n",
    "df"
   ]
  },
  {
   "cell_type": "markdown",
   "id": "a6e43d16",
   "metadata": {
    "papermill": {
     "duration": 0.013511,
     "end_time": "2023-04-12T11:53:08.014965",
     "exception": false,
     "start_time": "2023-04-12T11:53:08.001454",
     "status": "completed"
    },
    "tags": []
   },
   "source": [
    "# Data Exploration \n",
    "* Handling missing values and Outliers"
   ]
  },
  {
   "cell_type": "code",
   "execution_count": 5,
   "id": "aef07390",
   "metadata": {
    "execution": {
     "iopub.execute_input": "2023-04-12T11:53:08.043202Z",
     "iopub.status.busy": "2023-04-12T11:53:08.042903Z",
     "iopub.status.idle": "2023-04-12T11:53:08.061415Z",
     "shell.execute_reply": "2023-04-12T11:53:08.059922Z"
    },
    "papermill": {
     "duration": 0.035123,
     "end_time": "2023-04-12T11:53:08.063637",
     "exception": false,
     "start_time": "2023-04-12T11:53:08.028514",
     "status": "completed"
    },
    "tags": []
   },
   "outputs": [
    {
     "name": "stdout",
     "output_type": "stream",
     "text": [
      "<class 'pandas.core.frame.DataFrame'>\n",
      "RangeIndex: 303 entries, 0 to 302\n",
      "Data columns (total 14 columns):\n",
      " #   Column    Non-Null Count  Dtype  \n",
      "---  ------    --------------  -----  \n",
      " 0   age       303 non-null    int64  \n",
      " 1   sex       303 non-null    int64  \n",
      " 2   cp        303 non-null    int64  \n",
      " 3   trestbps  303 non-null    int64  \n",
      " 4   chol      303 non-null    int64  \n",
      " 5   fbs       303 non-null    int64  \n",
      " 6   restecg   303 non-null    int64  \n",
      " 7   thalach   303 non-null    int64  \n",
      " 8   exang     303 non-null    int64  \n",
      " 9   oldpeak   303 non-null    float64\n",
      " 10  slope     303 non-null    int64  \n",
      " 11  ca        303 non-null    int64  \n",
      " 12  thal      303 non-null    int64  \n",
      " 13  target    303 non-null    int64  \n",
      "dtypes: float64(1), int64(13)\n",
      "memory usage: 33.3 KB\n"
     ]
    }
   ],
   "source": [
    "df.info()"
   ]
  },
  {
   "cell_type": "code",
   "execution_count": 6,
   "id": "d248e031",
   "metadata": {
    "execution": {
     "iopub.execute_input": "2023-04-12T11:53:08.093234Z",
     "iopub.status.busy": "2023-04-12T11:53:08.092320Z",
     "iopub.status.idle": "2023-04-12T11:53:08.137851Z",
     "shell.execute_reply": "2023-04-12T11:53:08.136739Z"
    },
    "papermill": {
     "duration": 0.062808,
     "end_time": "2023-04-12T11:53:08.140476",
     "exception": false,
     "start_time": "2023-04-12T11:53:08.077668",
     "status": "completed"
    },
    "tags": []
   },
   "outputs": [
    {
     "data": {
      "text/html": [
       "<div>\n",
       "<style scoped>\n",
       "    .dataframe tbody tr th:only-of-type {\n",
       "        vertical-align: middle;\n",
       "    }\n",
       "\n",
       "    .dataframe tbody tr th {\n",
       "        vertical-align: top;\n",
       "    }\n",
       "\n",
       "    .dataframe thead th {\n",
       "        text-align: right;\n",
       "    }\n",
       "</style>\n",
       "<table border=\"1\" class=\"dataframe\">\n",
       "  <thead>\n",
       "    <tr style=\"text-align: right;\">\n",
       "      <th></th>\n",
       "      <th>age</th>\n",
       "      <th>sex</th>\n",
       "      <th>cp</th>\n",
       "      <th>trestbps</th>\n",
       "      <th>chol</th>\n",
       "      <th>fbs</th>\n",
       "      <th>restecg</th>\n",
       "      <th>thalach</th>\n",
       "      <th>exang</th>\n",
       "      <th>oldpeak</th>\n",
       "      <th>slope</th>\n",
       "      <th>ca</th>\n",
       "      <th>thal</th>\n",
       "      <th>target</th>\n",
       "    </tr>\n",
       "  </thead>\n",
       "  <tbody>\n",
       "    <tr>\n",
       "      <th>count</th>\n",
       "      <td>303.000000</td>\n",
       "      <td>303.000000</td>\n",
       "      <td>303.000000</td>\n",
       "      <td>303.000000</td>\n",
       "      <td>303.000000</td>\n",
       "      <td>303.000000</td>\n",
       "      <td>303.000000</td>\n",
       "      <td>303.000000</td>\n",
       "      <td>303.000000</td>\n",
       "      <td>303.000000</td>\n",
       "      <td>303.000000</td>\n",
       "      <td>303.000000</td>\n",
       "      <td>303.000000</td>\n",
       "      <td>303.000000</td>\n",
       "    </tr>\n",
       "    <tr>\n",
       "      <th>mean</th>\n",
       "      <td>54.366337</td>\n",
       "      <td>0.683168</td>\n",
       "      <td>0.966997</td>\n",
       "      <td>131.623762</td>\n",
       "      <td>246.264026</td>\n",
       "      <td>0.148515</td>\n",
       "      <td>0.528053</td>\n",
       "      <td>149.646865</td>\n",
       "      <td>0.326733</td>\n",
       "      <td>1.039604</td>\n",
       "      <td>1.399340</td>\n",
       "      <td>0.729373</td>\n",
       "      <td>2.313531</td>\n",
       "      <td>0.544554</td>\n",
       "    </tr>\n",
       "    <tr>\n",
       "      <th>std</th>\n",
       "      <td>9.082101</td>\n",
       "      <td>0.466011</td>\n",
       "      <td>1.032052</td>\n",
       "      <td>17.538143</td>\n",
       "      <td>51.830751</td>\n",
       "      <td>0.356198</td>\n",
       "      <td>0.525860</td>\n",
       "      <td>22.905161</td>\n",
       "      <td>0.469794</td>\n",
       "      <td>1.161075</td>\n",
       "      <td>0.616226</td>\n",
       "      <td>1.022606</td>\n",
       "      <td>0.612277</td>\n",
       "      <td>0.498835</td>\n",
       "    </tr>\n",
       "    <tr>\n",
       "      <th>min</th>\n",
       "      <td>29.000000</td>\n",
       "      <td>0.000000</td>\n",
       "      <td>0.000000</td>\n",
       "      <td>94.000000</td>\n",
       "      <td>126.000000</td>\n",
       "      <td>0.000000</td>\n",
       "      <td>0.000000</td>\n",
       "      <td>71.000000</td>\n",
       "      <td>0.000000</td>\n",
       "      <td>0.000000</td>\n",
       "      <td>0.000000</td>\n",
       "      <td>0.000000</td>\n",
       "      <td>0.000000</td>\n",
       "      <td>0.000000</td>\n",
       "    </tr>\n",
       "    <tr>\n",
       "      <th>25%</th>\n",
       "      <td>47.500000</td>\n",
       "      <td>0.000000</td>\n",
       "      <td>0.000000</td>\n",
       "      <td>120.000000</td>\n",
       "      <td>211.000000</td>\n",
       "      <td>0.000000</td>\n",
       "      <td>0.000000</td>\n",
       "      <td>133.500000</td>\n",
       "      <td>0.000000</td>\n",
       "      <td>0.000000</td>\n",
       "      <td>1.000000</td>\n",
       "      <td>0.000000</td>\n",
       "      <td>2.000000</td>\n",
       "      <td>0.000000</td>\n",
       "    </tr>\n",
       "    <tr>\n",
       "      <th>50%</th>\n",
       "      <td>55.000000</td>\n",
       "      <td>1.000000</td>\n",
       "      <td>1.000000</td>\n",
       "      <td>130.000000</td>\n",
       "      <td>240.000000</td>\n",
       "      <td>0.000000</td>\n",
       "      <td>1.000000</td>\n",
       "      <td>153.000000</td>\n",
       "      <td>0.000000</td>\n",
       "      <td>0.800000</td>\n",
       "      <td>1.000000</td>\n",
       "      <td>0.000000</td>\n",
       "      <td>2.000000</td>\n",
       "      <td>1.000000</td>\n",
       "    </tr>\n",
       "    <tr>\n",
       "      <th>75%</th>\n",
       "      <td>61.000000</td>\n",
       "      <td>1.000000</td>\n",
       "      <td>2.000000</td>\n",
       "      <td>140.000000</td>\n",
       "      <td>274.500000</td>\n",
       "      <td>0.000000</td>\n",
       "      <td>1.000000</td>\n",
       "      <td>166.000000</td>\n",
       "      <td>1.000000</td>\n",
       "      <td>1.600000</td>\n",
       "      <td>2.000000</td>\n",
       "      <td>1.000000</td>\n",
       "      <td>3.000000</td>\n",
       "      <td>1.000000</td>\n",
       "    </tr>\n",
       "    <tr>\n",
       "      <th>max</th>\n",
       "      <td>77.000000</td>\n",
       "      <td>1.000000</td>\n",
       "      <td>3.000000</td>\n",
       "      <td>200.000000</td>\n",
       "      <td>564.000000</td>\n",
       "      <td>1.000000</td>\n",
       "      <td>2.000000</td>\n",
       "      <td>202.000000</td>\n",
       "      <td>1.000000</td>\n",
       "      <td>6.200000</td>\n",
       "      <td>2.000000</td>\n",
       "      <td>4.000000</td>\n",
       "      <td>3.000000</td>\n",
       "      <td>1.000000</td>\n",
       "    </tr>\n",
       "  </tbody>\n",
       "</table>\n",
       "</div>"
      ],
      "text/plain": [
       "              age         sex          cp    trestbps        chol         fbs  \\\n",
       "count  303.000000  303.000000  303.000000  303.000000  303.000000  303.000000   \n",
       "mean    54.366337    0.683168    0.966997  131.623762  246.264026    0.148515   \n",
       "std      9.082101    0.466011    1.032052   17.538143   51.830751    0.356198   \n",
       "min     29.000000    0.000000    0.000000   94.000000  126.000000    0.000000   \n",
       "25%     47.500000    0.000000    0.000000  120.000000  211.000000    0.000000   \n",
       "50%     55.000000    1.000000    1.000000  130.000000  240.000000    0.000000   \n",
       "75%     61.000000    1.000000    2.000000  140.000000  274.500000    0.000000   \n",
       "max     77.000000    1.000000    3.000000  200.000000  564.000000    1.000000   \n",
       "\n",
       "          restecg     thalach       exang     oldpeak       slope          ca  \\\n",
       "count  303.000000  303.000000  303.000000  303.000000  303.000000  303.000000   \n",
       "mean     0.528053  149.646865    0.326733    1.039604    1.399340    0.729373   \n",
       "std      0.525860   22.905161    0.469794    1.161075    0.616226    1.022606   \n",
       "min      0.000000   71.000000    0.000000    0.000000    0.000000    0.000000   \n",
       "25%      0.000000  133.500000    0.000000    0.000000    1.000000    0.000000   \n",
       "50%      1.000000  153.000000    0.000000    0.800000    1.000000    0.000000   \n",
       "75%      1.000000  166.000000    1.000000    1.600000    2.000000    1.000000   \n",
       "max      2.000000  202.000000    1.000000    6.200000    2.000000    4.000000   \n",
       "\n",
       "             thal      target  \n",
       "count  303.000000  303.000000  \n",
       "mean     2.313531    0.544554  \n",
       "std      0.612277    0.498835  \n",
       "min      0.000000    0.000000  \n",
       "25%      2.000000    0.000000  \n",
       "50%      2.000000    1.000000  \n",
       "75%      3.000000    1.000000  \n",
       "max      3.000000    1.000000  "
      ]
     },
     "execution_count": 6,
     "metadata": {},
     "output_type": "execute_result"
    }
   ],
   "source": [
    "df.describe()"
   ]
  },
  {
   "cell_type": "code",
   "execution_count": 7,
   "id": "9df0204f",
   "metadata": {
    "execution": {
     "iopub.execute_input": "2023-04-12T11:53:08.171227Z",
     "iopub.status.busy": "2023-04-12T11:53:08.169780Z",
     "iopub.status.idle": "2023-04-12T11:53:08.176346Z",
     "shell.execute_reply": "2023-04-12T11:53:08.175378Z"
    },
    "papermill": {
     "duration": 0.023751,
     "end_time": "2023-04-12T11:53:08.178443",
     "exception": false,
     "start_time": "2023-04-12T11:53:08.154692",
     "status": "completed"
    },
    "tags": []
   },
   "outputs": [
    {
     "data": {
      "text/plain": [
       "(303, 14)"
      ]
     },
     "execution_count": 7,
     "metadata": {},
     "output_type": "execute_result"
    }
   ],
   "source": [
    "df.shape"
   ]
  },
  {
   "cell_type": "code",
   "execution_count": 8,
   "id": "5587ce85",
   "metadata": {
    "execution": {
     "iopub.execute_input": "2023-04-12T11:53:08.208318Z",
     "iopub.status.busy": "2023-04-12T11:53:08.207429Z",
     "iopub.status.idle": "2023-04-12T11:53:08.220828Z",
     "shell.execute_reply": "2023-04-12T11:53:08.219673Z"
    },
    "papermill": {
     "duration": 0.030461,
     "end_time": "2023-04-12T11:53:08.222905",
     "exception": false,
     "start_time": "2023-04-12T11:53:08.192444",
     "status": "completed"
    },
    "tags": []
   },
   "outputs": [
    {
     "data": {
      "text/html": [
       "<div>\n",
       "<style scoped>\n",
       "    .dataframe tbody tr th:only-of-type {\n",
       "        vertical-align: middle;\n",
       "    }\n",
       "\n",
       "    .dataframe tbody tr th {\n",
       "        vertical-align: top;\n",
       "    }\n",
       "\n",
       "    .dataframe thead th {\n",
       "        text-align: right;\n",
       "    }\n",
       "</style>\n",
       "<table border=\"1\" class=\"dataframe\">\n",
       "  <thead>\n",
       "    <tr style=\"text-align: right;\">\n",
       "      <th></th>\n",
       "      <th>age</th>\n",
       "      <th>sex</th>\n",
       "      <th>cp</th>\n",
       "      <th>trestbps</th>\n",
       "      <th>chol</th>\n",
       "      <th>fbs</th>\n",
       "      <th>restecg</th>\n",
       "      <th>thalach</th>\n",
       "      <th>exang</th>\n",
       "      <th>oldpeak</th>\n",
       "      <th>slope</th>\n",
       "      <th>ca</th>\n",
       "      <th>thal</th>\n",
       "      <th>target</th>\n",
       "    </tr>\n",
       "  </thead>\n",
       "  <tbody>\n",
       "    <tr>\n",
       "      <th>298</th>\n",
       "      <td>57</td>\n",
       "      <td>0</td>\n",
       "      <td>0</td>\n",
       "      <td>140</td>\n",
       "      <td>241</td>\n",
       "      <td>0</td>\n",
       "      <td>1</td>\n",
       "      <td>123</td>\n",
       "      <td>1</td>\n",
       "      <td>0.2</td>\n",
       "      <td>1</td>\n",
       "      <td>0</td>\n",
       "      <td>3</td>\n",
       "      <td>0</td>\n",
       "    </tr>\n",
       "    <tr>\n",
       "      <th>299</th>\n",
       "      <td>45</td>\n",
       "      <td>1</td>\n",
       "      <td>3</td>\n",
       "      <td>110</td>\n",
       "      <td>264</td>\n",
       "      <td>0</td>\n",
       "      <td>1</td>\n",
       "      <td>132</td>\n",
       "      <td>0</td>\n",
       "      <td>1.2</td>\n",
       "      <td>1</td>\n",
       "      <td>0</td>\n",
       "      <td>3</td>\n",
       "      <td>0</td>\n",
       "    </tr>\n",
       "    <tr>\n",
       "      <th>300</th>\n",
       "      <td>68</td>\n",
       "      <td>1</td>\n",
       "      <td>0</td>\n",
       "      <td>144</td>\n",
       "      <td>193</td>\n",
       "      <td>1</td>\n",
       "      <td>1</td>\n",
       "      <td>141</td>\n",
       "      <td>0</td>\n",
       "      <td>3.4</td>\n",
       "      <td>1</td>\n",
       "      <td>2</td>\n",
       "      <td>3</td>\n",
       "      <td>0</td>\n",
       "    </tr>\n",
       "    <tr>\n",
       "      <th>301</th>\n",
       "      <td>57</td>\n",
       "      <td>1</td>\n",
       "      <td>0</td>\n",
       "      <td>130</td>\n",
       "      <td>131</td>\n",
       "      <td>0</td>\n",
       "      <td>1</td>\n",
       "      <td>115</td>\n",
       "      <td>1</td>\n",
       "      <td>1.2</td>\n",
       "      <td>1</td>\n",
       "      <td>1</td>\n",
       "      <td>3</td>\n",
       "      <td>0</td>\n",
       "    </tr>\n",
       "    <tr>\n",
       "      <th>302</th>\n",
       "      <td>57</td>\n",
       "      <td>0</td>\n",
       "      <td>1</td>\n",
       "      <td>130</td>\n",
       "      <td>236</td>\n",
       "      <td>0</td>\n",
       "      <td>0</td>\n",
       "      <td>174</td>\n",
       "      <td>0</td>\n",
       "      <td>0.0</td>\n",
       "      <td>1</td>\n",
       "      <td>1</td>\n",
       "      <td>2</td>\n",
       "      <td>0</td>\n",
       "    </tr>\n",
       "  </tbody>\n",
       "</table>\n",
       "</div>"
      ],
      "text/plain": [
       "     age  sex  cp  trestbps  chol  fbs  restecg  thalach  exang  oldpeak  \\\n",
       "298   57    0   0       140   241    0        1      123      1      0.2   \n",
       "299   45    1   3       110   264    0        1      132      0      1.2   \n",
       "300   68    1   0       144   193    1        1      141      0      3.4   \n",
       "301   57    1   0       130   131    0        1      115      1      1.2   \n",
       "302   57    0   1       130   236    0        0      174      0      0.0   \n",
       "\n",
       "     slope  ca  thal  target  \n",
       "298      1   0     3       0  \n",
       "299      1   0     3       0  \n",
       "300      1   2     3       0  \n",
       "301      1   1     3       0  \n",
       "302      1   1     2       0  "
      ]
     },
     "execution_count": 8,
     "metadata": {},
     "output_type": "execute_result"
    }
   ],
   "source": [
    "df.tail()"
   ]
  },
  {
   "cell_type": "markdown",
   "id": "c9dd79b0",
   "metadata": {
    "papermill": {
     "duration": 0.014166,
     "end_time": "2023-04-12T11:53:08.251479",
     "exception": false,
     "start_time": "2023-04-12T11:53:08.237313",
     "status": "completed"
    },
    "tags": []
   },
   "source": [
    "## Visualizing and Finding Patterns in Data"
   ]
  },
  {
   "cell_type": "code",
   "execution_count": 9,
   "id": "6d9fceea",
   "metadata": {
    "execution": {
     "iopub.execute_input": "2023-04-12T11:53:08.281239Z",
     "iopub.status.busy": "2023-04-12T11:53:08.280951Z",
     "iopub.status.idle": "2023-04-12T11:53:08.288472Z",
     "shell.execute_reply": "2023-04-12T11:53:08.287451Z"
    },
    "papermill": {
     "duration": 0.024771,
     "end_time": "2023-04-12T11:53:08.290497",
     "exception": false,
     "start_time": "2023-04-12T11:53:08.265726",
     "status": "completed"
    },
    "tags": []
   },
   "outputs": [
    {
     "data": {
      "text/plain": [
       "1    165\n",
       "0    138\n",
       "Name: target, dtype: int64"
      ]
     },
     "execution_count": 9,
     "metadata": {},
     "output_type": "execute_result"
    }
   ],
   "source": [
    "#Let's find out how many of each class are there\n",
    "df[\"target\"].value_counts()"
   ]
  },
  {
   "cell_type": "code",
   "execution_count": 10,
   "id": "1e31b5da",
   "metadata": {
    "execution": {
     "iopub.execute_input": "2023-04-12T11:53:08.320933Z",
     "iopub.status.busy": "2023-04-12T11:53:08.320080Z",
     "iopub.status.idle": "2023-04-12T11:53:08.333152Z",
     "shell.execute_reply": "2023-04-12T11:53:08.332125Z"
    },
    "papermill": {
     "duration": 0.03052,
     "end_time": "2023-04-12T11:53:08.335226",
     "exception": false,
     "start_time": "2023-04-12T11:53:08.304706",
     "status": "completed"
    },
    "tags": []
   },
   "outputs": [
    {
     "data": {
      "text/html": [
       "<div>\n",
       "<style scoped>\n",
       "    .dataframe tbody tr th:only-of-type {\n",
       "        vertical-align: middle;\n",
       "    }\n",
       "\n",
       "    .dataframe tbody tr th {\n",
       "        vertical-align: top;\n",
       "    }\n",
       "\n",
       "    .dataframe thead th {\n",
       "        text-align: right;\n",
       "    }\n",
       "</style>\n",
       "<table border=\"1\" class=\"dataframe\">\n",
       "  <thead>\n",
       "    <tr style=\"text-align: right;\">\n",
       "      <th></th>\n",
       "      <th>age</th>\n",
       "      <th>sex</th>\n",
       "      <th>cp</th>\n",
       "      <th>trestbps</th>\n",
       "      <th>chol</th>\n",
       "      <th>fbs</th>\n",
       "      <th>restecg</th>\n",
       "      <th>thalach</th>\n",
       "      <th>exang</th>\n",
       "      <th>oldpeak</th>\n",
       "      <th>slope</th>\n",
       "      <th>ca</th>\n",
       "      <th>thal</th>\n",
       "      <th>target</th>\n",
       "    </tr>\n",
       "  </thead>\n",
       "  <tbody>\n",
       "    <tr>\n",
       "      <th>0</th>\n",
       "      <td>63</td>\n",
       "      <td>1</td>\n",
       "      <td>3</td>\n",
       "      <td>145</td>\n",
       "      <td>233</td>\n",
       "      <td>1</td>\n",
       "      <td>0</td>\n",
       "      <td>150</td>\n",
       "      <td>0</td>\n",
       "      <td>2.3</td>\n",
       "      <td>0</td>\n",
       "      <td>0</td>\n",
       "      <td>1</td>\n",
       "      <td>1</td>\n",
       "    </tr>\n",
       "    <tr>\n",
       "      <th>1</th>\n",
       "      <td>37</td>\n",
       "      <td>1</td>\n",
       "      <td>2</td>\n",
       "      <td>130</td>\n",
       "      <td>250</td>\n",
       "      <td>0</td>\n",
       "      <td>1</td>\n",
       "      <td>187</td>\n",
       "      <td>0</td>\n",
       "      <td>3.5</td>\n",
       "      <td>0</td>\n",
       "      <td>0</td>\n",
       "      <td>2</td>\n",
       "      <td>1</td>\n",
       "    </tr>\n",
       "    <tr>\n",
       "      <th>2</th>\n",
       "      <td>41</td>\n",
       "      <td>0</td>\n",
       "      <td>1</td>\n",
       "      <td>130</td>\n",
       "      <td>204</td>\n",
       "      <td>0</td>\n",
       "      <td>0</td>\n",
       "      <td>172</td>\n",
       "      <td>0</td>\n",
       "      <td>1.4</td>\n",
       "      <td>2</td>\n",
       "      <td>0</td>\n",
       "      <td>2</td>\n",
       "      <td>1</td>\n",
       "    </tr>\n",
       "    <tr>\n",
       "      <th>3</th>\n",
       "      <td>56</td>\n",
       "      <td>1</td>\n",
       "      <td>1</td>\n",
       "      <td>120</td>\n",
       "      <td>236</td>\n",
       "      <td>0</td>\n",
       "      <td>1</td>\n",
       "      <td>178</td>\n",
       "      <td>0</td>\n",
       "      <td>0.8</td>\n",
       "      <td>2</td>\n",
       "      <td>0</td>\n",
       "      <td>2</td>\n",
       "      <td>1</td>\n",
       "    </tr>\n",
       "    <tr>\n",
       "      <th>4</th>\n",
       "      <td>57</td>\n",
       "      <td>0</td>\n",
       "      <td>0</td>\n",
       "      <td>120</td>\n",
       "      <td>354</td>\n",
       "      <td>0</td>\n",
       "      <td>1</td>\n",
       "      <td>163</td>\n",
       "      <td>1</td>\n",
       "      <td>0.6</td>\n",
       "      <td>2</td>\n",
       "      <td>0</td>\n",
       "      <td>2</td>\n",
       "      <td>1</td>\n",
       "    </tr>\n",
       "  </tbody>\n",
       "</table>\n",
       "</div>"
      ],
      "text/plain": [
       "   age  sex  cp  trestbps  chol  fbs  restecg  thalach  exang  oldpeak  slope  \\\n",
       "0   63    1   3       145   233    1        0      150      0      2.3      0   \n",
       "1   37    1   2       130   250    0        1      187      0      3.5      0   \n",
       "2   41    0   1       130   204    0        0      172      0      1.4      2   \n",
       "3   56    1   1       120   236    0        1      178      0      0.8      2   \n",
       "4   57    0   0       120   354    0        1      163      1      0.6      2   \n",
       "\n",
       "   ca  thal  target  \n",
       "0   0     1       1  \n",
       "1   0     2       1  \n",
       "2   0     2       1  \n",
       "3   0     2       1  \n",
       "4   0     2       1  "
      ]
     },
     "execution_count": 10,
     "metadata": {},
     "output_type": "execute_result"
    }
   ],
   "source": [
    "df.head()"
   ]
  },
  {
   "cell_type": "code",
   "execution_count": 11,
   "id": "7d09a941",
   "metadata": {
    "execution": {
     "iopub.execute_input": "2023-04-12T11:53:08.366588Z",
     "iopub.status.busy": "2023-04-12T11:53:08.365708Z",
     "iopub.status.idle": "2023-04-12T11:53:08.378358Z",
     "shell.execute_reply": "2023-04-12T11:53:08.377319Z"
    },
    "papermill": {
     "duration": 0.03012,
     "end_time": "2023-04-12T11:53:08.380464",
     "exception": false,
     "start_time": "2023-04-12T11:53:08.350344",
     "status": "completed"
    },
    "tags": []
   },
   "outputs": [
    {
     "data": {
      "text/html": [
       "<div>\n",
       "<style scoped>\n",
       "    .dataframe tbody tr th:only-of-type {\n",
       "        vertical-align: middle;\n",
       "    }\n",
       "\n",
       "    .dataframe tbody tr th {\n",
       "        vertical-align: top;\n",
       "    }\n",
       "\n",
       "    .dataframe thead th {\n",
       "        text-align: right;\n",
       "    }\n",
       "</style>\n",
       "<table border=\"1\" class=\"dataframe\">\n",
       "  <thead>\n",
       "    <tr style=\"text-align: right;\">\n",
       "      <th></th>\n",
       "      <th>age</th>\n",
       "      <th>sex</th>\n",
       "      <th>cp</th>\n",
       "      <th>trestbps</th>\n",
       "      <th>chol</th>\n",
       "      <th>fbs</th>\n",
       "      <th>restecg</th>\n",
       "      <th>thalach</th>\n",
       "      <th>exang</th>\n",
       "      <th>oldpeak</th>\n",
       "      <th>slope</th>\n",
       "      <th>ca</th>\n",
       "      <th>thal</th>\n",
       "      <th>target</th>\n",
       "    </tr>\n",
       "  </thead>\n",
       "  <tbody>\n",
       "    <tr>\n",
       "      <th>298</th>\n",
       "      <td>57</td>\n",
       "      <td>0</td>\n",
       "      <td>0</td>\n",
       "      <td>140</td>\n",
       "      <td>241</td>\n",
       "      <td>0</td>\n",
       "      <td>1</td>\n",
       "      <td>123</td>\n",
       "      <td>1</td>\n",
       "      <td>0.2</td>\n",
       "      <td>1</td>\n",
       "      <td>0</td>\n",
       "      <td>3</td>\n",
       "      <td>0</td>\n",
       "    </tr>\n",
       "    <tr>\n",
       "      <th>299</th>\n",
       "      <td>45</td>\n",
       "      <td>1</td>\n",
       "      <td>3</td>\n",
       "      <td>110</td>\n",
       "      <td>264</td>\n",
       "      <td>0</td>\n",
       "      <td>1</td>\n",
       "      <td>132</td>\n",
       "      <td>0</td>\n",
       "      <td>1.2</td>\n",
       "      <td>1</td>\n",
       "      <td>0</td>\n",
       "      <td>3</td>\n",
       "      <td>0</td>\n",
       "    </tr>\n",
       "    <tr>\n",
       "      <th>300</th>\n",
       "      <td>68</td>\n",
       "      <td>1</td>\n",
       "      <td>0</td>\n",
       "      <td>144</td>\n",
       "      <td>193</td>\n",
       "      <td>1</td>\n",
       "      <td>1</td>\n",
       "      <td>141</td>\n",
       "      <td>0</td>\n",
       "      <td>3.4</td>\n",
       "      <td>1</td>\n",
       "      <td>2</td>\n",
       "      <td>3</td>\n",
       "      <td>0</td>\n",
       "    </tr>\n",
       "    <tr>\n",
       "      <th>301</th>\n",
       "      <td>57</td>\n",
       "      <td>1</td>\n",
       "      <td>0</td>\n",
       "      <td>130</td>\n",
       "      <td>131</td>\n",
       "      <td>0</td>\n",
       "      <td>1</td>\n",
       "      <td>115</td>\n",
       "      <td>1</td>\n",
       "      <td>1.2</td>\n",
       "      <td>1</td>\n",
       "      <td>1</td>\n",
       "      <td>3</td>\n",
       "      <td>0</td>\n",
       "    </tr>\n",
       "    <tr>\n",
       "      <th>302</th>\n",
       "      <td>57</td>\n",
       "      <td>0</td>\n",
       "      <td>1</td>\n",
       "      <td>130</td>\n",
       "      <td>236</td>\n",
       "      <td>0</td>\n",
       "      <td>0</td>\n",
       "      <td>174</td>\n",
       "      <td>0</td>\n",
       "      <td>0.0</td>\n",
       "      <td>1</td>\n",
       "      <td>1</td>\n",
       "      <td>2</td>\n",
       "      <td>0</td>\n",
       "    </tr>\n",
       "  </tbody>\n",
       "</table>\n",
       "</div>"
      ],
      "text/plain": [
       "     age  sex  cp  trestbps  chol  fbs  restecg  thalach  exang  oldpeak  \\\n",
       "298   57    0   0       140   241    0        1      123      1      0.2   \n",
       "299   45    1   3       110   264    0        1      132      0      1.2   \n",
       "300   68    1   0       144   193    1        1      141      0      3.4   \n",
       "301   57    1   0       130   131    0        1      115      1      1.2   \n",
       "302   57    0   1       130   236    0        0      174      0      0.0   \n",
       "\n",
       "     slope  ca  thal  target  \n",
       "298      1   0     3       0  \n",
       "299      1   0     3       0  \n",
       "300      1   2     3       0  \n",
       "301      1   1     3       0  \n",
       "302      1   1     2       0  "
      ]
     },
     "execution_count": 11,
     "metadata": {},
     "output_type": "execute_result"
    }
   ],
   "source": [
    "df.tail()"
   ]
  },
  {
   "cell_type": "code",
   "execution_count": 12,
   "id": "65e4c013",
   "metadata": {
    "execution": {
     "iopub.execute_input": "2023-04-12T11:53:08.412303Z",
     "iopub.status.busy": "2023-04-12T11:53:08.410852Z",
     "iopub.status.idle": "2023-04-12T11:53:08.418281Z",
     "shell.execute_reply": "2023-04-12T11:53:08.417431Z"
    },
    "papermill": {
     "duration": 0.025179,
     "end_time": "2023-04-12T11:53:08.420337",
     "exception": false,
     "start_time": "2023-04-12T11:53:08.395158",
     "status": "completed"
    },
    "tags": []
   },
   "outputs": [
    {
     "data": {
      "text/plain": [
       "1    207\n",
       "0     96\n",
       "Name: sex, dtype: int64"
      ]
     },
     "execution_count": 12,
     "metadata": {},
     "output_type": "execute_result"
    }
   ],
   "source": [
    "df.sex.value_counts()"
   ]
  },
  {
   "cell_type": "code",
   "execution_count": 13,
   "id": "cdd227f0",
   "metadata": {
    "execution": {
     "iopub.execute_input": "2023-04-12T11:53:08.451841Z",
     "iopub.status.busy": "2023-04-12T11:53:08.451065Z",
     "iopub.status.idle": "2023-04-12T11:53:08.473809Z",
     "shell.execute_reply": "2023-04-12T11:53:08.472769Z"
    },
    "papermill": {
     "duration": 0.040677,
     "end_time": "2023-04-12T11:53:08.475962",
     "exception": false,
     "start_time": "2023-04-12T11:53:08.435285",
     "status": "completed"
    },
    "tags": []
   },
   "outputs": [
    {
     "data": {
      "text/html": [
       "<div>\n",
       "<style scoped>\n",
       "    .dataframe tbody tr th:only-of-type {\n",
       "        vertical-align: middle;\n",
       "    }\n",
       "\n",
       "    .dataframe tbody tr th {\n",
       "        vertical-align: top;\n",
       "    }\n",
       "\n",
       "    .dataframe thead th {\n",
       "        text-align: right;\n",
       "    }\n",
       "</style>\n",
       "<table border=\"1\" class=\"dataframe\">\n",
       "  <thead>\n",
       "    <tr style=\"text-align: right;\">\n",
       "      <th>target</th>\n",
       "      <th>0</th>\n",
       "      <th>1</th>\n",
       "    </tr>\n",
       "    <tr>\n",
       "      <th>sex</th>\n",
       "      <th></th>\n",
       "      <th></th>\n",
       "    </tr>\n",
       "  </thead>\n",
       "  <tbody>\n",
       "    <tr>\n",
       "      <th>0</th>\n",
       "      <td>24</td>\n",
       "      <td>72</td>\n",
       "    </tr>\n",
       "    <tr>\n",
       "      <th>1</th>\n",
       "      <td>114</td>\n",
       "      <td>93</td>\n",
       "    </tr>\n",
       "  </tbody>\n",
       "</table>\n",
       "</div>"
      ],
      "text/plain": [
       "target    0   1\n",
       "sex            \n",
       "0        24  72\n",
       "1       114  93"
      ]
     },
     "execution_count": 13,
     "metadata": {},
     "output_type": "execute_result"
    }
   ],
   "source": [
    "#Checking how sex corresponds to the target column\n",
    "pd.crosstab(df.sex , df.target)"
   ]
  },
  {
   "cell_type": "code",
   "execution_count": 14,
   "id": "0612bfcc",
   "metadata": {
    "execution": {
     "iopub.execute_input": "2023-04-12T11:53:08.507279Z",
     "iopub.status.busy": "2023-04-12T11:53:08.506998Z",
     "iopub.status.idle": "2023-04-12T11:53:08.764324Z",
     "shell.execute_reply": "2023-04-12T11:53:08.763327Z"
    },
    "papermill": {
     "duration": 0.27688,
     "end_time": "2023-04-12T11:53:08.768166",
     "exception": false,
     "start_time": "2023-04-12T11:53:08.491286",
     "status": "completed"
    },
    "tags": []
   },
   "outputs": [
    {
     "data": {
      "text/plain": [
       "<AxesSubplot:title={'center':'How Gender correlates to Heart Disease'}, xlabel='target', ylabel='Count'>"
      ]
     },
     "execution_count": 14,
     "metadata": {},
     "output_type": "execute_result"
    },
    {
     "data": {
      "image/png": "[encoded data removed]",
      "text/plain": [
       "<Figure size 1000x500 with 1 Axes>"
      ]
     },
     "metadata": {},
     "output_type": "display_data"
    }
   ],
   "source": [
    "pd.crosstab(df.target , df.sex).plot(kind = \"bar\", color = [\"salmon\" , \"lightblue\"], figsize = (10,5), title = \"How Gender correlates to Heart Disease\" , ylabel = \"Count\")"
   ]
  },
  {
   "cell_type": "code",
   "execution_count": 15,
   "id": "de2546a9",
   "metadata": {
    "execution": {
     "iopub.execute_input": "2023-04-12T11:53:08.801535Z",
     "iopub.status.busy": "2023-04-12T11:53:08.800908Z",
     "iopub.status.idle": "2023-04-12T11:53:09.065878Z",
     "shell.execute_reply": "2023-04-12T11:53:09.064861Z"
    },
    "papermill": {
     "duration": 0.283899,
     "end_time": "2023-04-12T11:53:09.068332",
     "exception": false,
     "start_time": "2023-04-12T11:53:08.784433",
     "status": "completed"
    },
    "tags": []
   },
   "outputs": [
    {
     "data": {
      "text/plain": [
       "Text(0, 0.5, 'Maximum Heart Rate')"
      ]
     },
     "execution_count": 15,
     "metadata": {},
     "output_type": "execute_result"
    },
    {
     "data": {
      "image/png": "[encoded data removed]",
      "text/plain": [
       "<Figure size 1000x600 with 1 Axes>"
      ]
     },
     "metadata": {},
     "output_type": "display_data"
    }
   ],
   "source": [
    "#Comparing Age vs Maximum Heart Rate\n",
    "plt.figure(figsize = (10,6))\n",
    "\n",
    "#Using scatter plot to plot age vs maximum heart rate for target = 1\n",
    "plt.scatter(df.age[df.target == 1],\n",
    "           df.thalach[df.target == 1],\n",
    "           color = \"salmon\")\n",
    "#Using scatter plot to plot age vs maximum heart rate for target = 0\n",
    "plt.scatter (df.age[df.target == 0], df.thalach[df.target ==0] , color = \"lightblue\")\n",
    "plt.title(\"Heart Disease in function of Age and Maximum Heart Rate\")\n",
    "plt.xlabel(\"Age\")\n",
    "plt.ylabel(\"Maximum Heart Rate\")"
   ]
  },
  {
   "cell_type": "code",
   "execution_count": 16,
   "id": "8fa20414",
   "metadata": {
    "execution": {
     "iopub.execute_input": "2023-04-12T11:53:09.103338Z",
     "iopub.status.busy": "2023-04-12T11:53:09.102298Z",
     "iopub.status.idle": "2023-04-12T11:53:09.123931Z",
     "shell.execute_reply": "2023-04-12T11:53:09.122808Z"
    },
    "papermill": {
     "duration": 0.041639,
     "end_time": "2023-04-12T11:53:09.126376",
     "exception": false,
     "start_time": "2023-04-12T11:53:09.084737",
     "status": "completed"
    },
    "tags": []
   },
   "outputs": [
    {
     "data": {
      "text/html": [
       "<div>\n",
       "<style scoped>\n",
       "    .dataframe tbody tr th:only-of-type {\n",
       "        vertical-align: middle;\n",
       "    }\n",
       "\n",
       "    .dataframe tbody tr th {\n",
       "        vertical-align: top;\n",
       "    }\n",
       "\n",
       "    .dataframe thead th {\n",
       "        text-align: right;\n",
       "    }\n",
       "</style>\n",
       "<table border=\"1\" class=\"dataframe\">\n",
       "  <thead>\n",
       "    <tr style=\"text-align: right;\">\n",
       "      <th></th>\n",
       "      <th>age</th>\n",
       "      <th>sex</th>\n",
       "      <th>cp</th>\n",
       "      <th>trestbps</th>\n",
       "      <th>chol</th>\n",
       "      <th>fbs</th>\n",
       "      <th>restecg</th>\n",
       "      <th>thalach</th>\n",
       "      <th>exang</th>\n",
       "      <th>oldpeak</th>\n",
       "      <th>slope</th>\n",
       "      <th>ca</th>\n",
       "      <th>thal</th>\n",
       "      <th>target</th>\n",
       "    </tr>\n",
       "  </thead>\n",
       "  <tbody>\n",
       "    <tr>\n",
       "      <th>age</th>\n",
       "      <td>1.000000</td>\n",
       "      <td>-0.098447</td>\n",
       "      <td>-0.068653</td>\n",
       "      <td>0.279351</td>\n",
       "      <td>0.213678</td>\n",
       "      <td>0.121308</td>\n",
       "      <td>-0.116211</td>\n",
       "      <td>-0.398522</td>\n",
       "      <td>0.096801</td>\n",
       "      <td>0.210013</td>\n",
       "      <td>-0.168814</td>\n",
       "      <td>0.276326</td>\n",
       "      <td>0.068001</td>\n",
       "      <td>-0.225439</td>\n",
       "    </tr>\n",
       "    <tr>\n",
       "      <th>sex</th>\n",
       "      <td>-0.098447</td>\n",
       "      <td>1.000000</td>\n",
       "      <td>-0.049353</td>\n",
       "      <td>-0.056769</td>\n",
       "      <td>-0.197912</td>\n",
       "      <td>0.045032</td>\n",
       "      <td>-0.058196</td>\n",
       "      <td>-0.044020</td>\n",
       "      <td>0.141664</td>\n",
       "      <td>0.096093</td>\n",
       "      <td>-0.030711</td>\n",
       "      <td>0.118261</td>\n",
       "      <td>0.210041</td>\n",
       "      <td>-0.280937</td>\n",
       "    </tr>\n",
       "    <tr>\n",
       "      <th>cp</th>\n",
       "      <td>-0.068653</td>\n",
       "      <td>-0.049353</td>\n",
       "      <td>1.000000</td>\n",
       "      <td>0.047608</td>\n",
       "      <td>-0.076904</td>\n",
       "      <td>0.094444</td>\n",
       "      <td>0.044421</td>\n",
       "      <td>0.295762</td>\n",
       "      <td>-0.394280</td>\n",
       "      <td>-0.149230</td>\n",
       "      <td>0.119717</td>\n",
       "      <td>-0.181053</td>\n",
       "      <td>-0.161736</td>\n",
       "      <td>0.433798</td>\n",
       "    </tr>\n",
       "    <tr>\n",
       "      <th>trestbps</th>\n",
       "      <td>0.279351</td>\n",
       "      <td>-0.056769</td>\n",
       "      <td>0.047608</td>\n",
       "      <td>1.000000</td>\n",
       "      <td>0.123174</td>\n",
       "      <td>0.177531</td>\n",
       "      <td>-0.114103</td>\n",
       "      <td>-0.046698</td>\n",
       "      <td>0.067616</td>\n",
       "      <td>0.193216</td>\n",
       "      <td>-0.121475</td>\n",
       "      <td>0.101389</td>\n",
       "      <td>0.062210</td>\n",
       "      <td>-0.144931</td>\n",
       "    </tr>\n",
       "    <tr>\n",
       "      <th>chol</th>\n",
       "      <td>0.213678</td>\n",
       "      <td>-0.197912</td>\n",
       "      <td>-0.076904</td>\n",
       "      <td>0.123174</td>\n",
       "      <td>1.000000</td>\n",
       "      <td>0.013294</td>\n",
       "      <td>-0.151040</td>\n",
       "      <td>-0.009940</td>\n",
       "      <td>0.067023</td>\n",
       "      <td>0.053952</td>\n",
       "      <td>-0.004038</td>\n",
       "      <td>0.070511</td>\n",
       "      <td>0.098803</td>\n",
       "      <td>-0.085239</td>\n",
       "    </tr>\n",
       "    <tr>\n",
       "      <th>fbs</th>\n",
       "      <td>0.121308</td>\n",
       "      <td>0.045032</td>\n",
       "      <td>0.094444</td>\n",
       "      <td>0.177531</td>\n",
       "      <td>0.013294</td>\n",
       "      <td>1.000000</td>\n",
       "      <td>-0.084189</td>\n",
       "      <td>-0.008567</td>\n",
       "      <td>0.025665</td>\n",
       "      <td>0.005747</td>\n",
       "      <td>-0.059894</td>\n",
       "      <td>0.137979</td>\n",
       "      <td>-0.032019</td>\n",
       "      <td>-0.028046</td>\n",
       "    </tr>\n",
       "    <tr>\n",
       "      <th>restecg</th>\n",
       "      <td>-0.116211</td>\n",
       "      <td>-0.058196</td>\n",
       "      <td>0.044421</td>\n",
       "      <td>-0.114103</td>\n",
       "      <td>-0.151040</td>\n",
       "      <td>-0.084189</td>\n",
       "      <td>1.000000</td>\n",
       "      <td>0.044123</td>\n",
       "      <td>-0.070733</td>\n",
       "      <td>-0.058770</td>\n",
       "      <td>0.093045</td>\n",
       "      <td>-0.072042</td>\n",
       "      <td>-0.011981</td>\n",
       "      <td>0.137230</td>\n",
       "    </tr>\n",
       "    <tr>\n",
       "      <th>thalach</th>\n",
       "      <td>-0.398522</td>\n",
       "      <td>-0.044020</td>\n",
       "      <td>0.295762</td>\n",
       "      <td>-0.046698</td>\n",
       "      <td>-0.009940</td>\n",
       "      <td>-0.008567</td>\n",
       "      <td>0.044123</td>\n",
       "      <td>1.000000</td>\n",
       "      <td>-0.378812</td>\n",
       "      <td>-0.344187</td>\n",
       "      <td>0.386784</td>\n",
       "      <td>-0.213177</td>\n",
       "      <td>-0.096439</td>\n",
       "      <td>0.421741</td>\n",
       "    </tr>\n",
       "    <tr>\n",
       "      <th>exang</th>\n",
       "      <td>0.096801</td>\n",
       "      <td>0.141664</td>\n",
       "      <td>-0.394280</td>\n",
       "      <td>0.067616</td>\n",
       "      <td>0.067023</td>\n",
       "      <td>0.025665</td>\n",
       "      <td>-0.070733</td>\n",
       "      <td>-0.378812</td>\n",
       "      <td>1.000000</td>\n",
       "      <td>0.288223</td>\n",
       "      <td>-0.257748</td>\n",
       "      <td>0.115739</td>\n",
       "      <td>0.206754</td>\n",
       "      <td>-0.436757</td>\n",
       "    </tr>\n",
       "    <tr>\n",
       "      <th>oldpeak</th>\n",
       "      <td>0.210013</td>\n",
       "      <td>0.096093</td>\n",
       "      <td>-0.149230</td>\n",
       "      <td>0.193216</td>\n",
       "      <td>0.053952</td>\n",
       "      <td>0.005747</td>\n",
       "      <td>-0.058770</td>\n",
       "      <td>-0.344187</td>\n",
       "      <td>0.288223</td>\n",
       "      <td>1.000000</td>\n",
       "      <td>-0.577537</td>\n",
       "      <td>0.222682</td>\n",
       "      <td>0.210244</td>\n",
       "      <td>-0.430696</td>\n",
       "    </tr>\n",
       "    <tr>\n",
       "      <th>slope</th>\n",
       "      <td>-0.168814</td>\n",
       "      <td>-0.030711</td>\n",
       "      <td>0.119717</td>\n",
       "      <td>-0.121475</td>\n",
       "      <td>-0.004038</td>\n",
       "      <td>-0.059894</td>\n",
       "      <td>0.093045</td>\n",
       "      <td>0.386784</td>\n",
       "      <td>-0.257748</td>\n",
       "      <td>-0.577537</td>\n",
       "      <td>1.000000</td>\n",
       "      <td>-0.080155</td>\n",
       "      <td>-0.104764</td>\n",
       "      <td>0.345877</td>\n",
       "    </tr>\n",
       "    <tr>\n",
       "      <th>ca</th>\n",
       "      <td>0.276326</td>\n",
       "      <td>0.118261</td>\n",
       "      <td>-0.181053</td>\n",
       "      <td>0.101389</td>\n",
       "      <td>0.070511</td>\n",
       "      <td>0.137979</td>\n",
       "      <td>-0.072042</td>\n",
       "      <td>-0.213177</td>\n",
       "      <td>0.115739</td>\n",
       "      <td>0.222682</td>\n",
       "      <td>-0.080155</td>\n",
       "      <td>1.000000</td>\n",
       "      <td>0.151832</td>\n",
       "      <td>-0.391724</td>\n",
       "    </tr>\n",
       "    <tr>\n",
       "      <th>thal</th>\n",
       "      <td>0.068001</td>\n",
       "      <td>0.210041</td>\n",
       "      <td>-0.161736</td>\n",
       "      <td>0.062210</td>\n",
       "      <td>0.098803</td>\n",
       "      <td>-0.032019</td>\n",
       "      <td>-0.011981</td>\n",
       "      <td>-0.096439</td>\n",
       "      <td>0.206754</td>\n",
       "      <td>0.210244</td>\n",
       "      <td>-0.104764</td>\n",
       "      <td>0.151832</td>\n",
       "      <td>1.000000</td>\n",
       "      <td>-0.344029</td>\n",
       "    </tr>\n",
       "    <tr>\n",
       "      <th>target</th>\n",
       "      <td>-0.225439</td>\n",
       "      <td>-0.280937</td>\n",
       "      <td>0.433798</td>\n",
       "      <td>-0.144931</td>\n",
       "      <td>-0.085239</td>\n",
       "      <td>-0.028046</td>\n",
       "      <td>0.137230</td>\n",
       "      <td>0.421741</td>\n",
       "      <td>-0.436757</td>\n",
       "      <td>-0.430696</td>\n",
       "      <td>0.345877</td>\n",
       "      <td>-0.391724</td>\n",
       "      <td>-0.344029</td>\n",
       "      <td>1.000000</td>\n",
       "    </tr>\n",
       "  </tbody>\n",
       "</table>\n",
       "</div>"
      ],
      "text/plain": [
       "               age       sex        cp  trestbps      chol       fbs  \\\n",
       "age       1.000000 -0.098447 -0.068653  0.279351  0.213678  0.121308   \n",
       "sex      -0.098447  1.000000 -0.049353 -0.056769 -0.197912  0.045032   \n",
       "cp       -0.068653 -0.049353  1.000000  0.047608 -0.076904  0.094444   \n",
       "trestbps  0.279351 -0.056769  0.047608  1.000000  0.123174  0.177531   \n",
       "chol      0.213678 -0.197912 -0.076904  0.123174  1.000000  0.013294   \n",
       "fbs       0.121308  0.045032  0.094444  0.177531  0.013294  1.000000   \n",
       "restecg  -0.116211 -0.058196  0.044421 -0.114103 -0.151040 -0.084189   \n",
       "thalach  -0.398522 -0.044020  0.295762 -0.046698 -0.009940 -0.008567   \n",
       "exang     0.096801  0.141664 -0.394280  0.067616  0.067023  0.025665   \n",
       "oldpeak   0.210013  0.096093 -0.149230  0.193216  0.053952  0.005747   \n",
       "slope    -0.168814 -0.030711  0.119717 -0.121475 -0.004038 -0.059894   \n",
       "ca        0.276326  0.118261 -0.181053  0.101389  0.070511  0.137979   \n",
       "thal      0.068001  0.210041 -0.161736  0.062210  0.098803 -0.032019   \n",
       "target   -0.225439 -0.280937  0.433798 -0.144931 -0.085239 -0.028046   \n",
       "\n",
       "           restecg   thalach     exang   oldpeak     slope        ca  \\\n",
       "age      -0.116211 -0.398522  0.096801  0.210013 -0.168814  0.276326   \n",
       "sex      -0.058196 -0.044020  0.141664  0.096093 -0.030711  0.118261   \n",
       "cp        0.044421  0.295762 -0.394280 -0.149230  0.119717 -0.181053   \n",
       "trestbps -0.114103 -0.046698  0.067616  0.193216 -0.121475  0.101389   \n",
       "chol     -0.151040 -0.009940  0.067023  0.053952 -0.004038  0.070511   \n",
       "fbs      -0.084189 -0.008567  0.025665  0.005747 -0.059894  0.137979   \n",
       "restecg   1.000000  0.044123 -0.070733 -0.058770  0.093045 -0.072042   \n",
       "thalach   0.044123  1.000000 -0.378812 -0.344187  0.386784 -0.213177   \n",
       "exang    -0.070733 -0.378812  1.000000  0.288223 -0.257748  0.115739   \n",
       "oldpeak  -0.058770 -0.344187  0.288223  1.000000 -0.577537  0.222682   \n",
       "slope     0.093045  0.386784 -0.257748 -0.577537  1.000000 -0.080155   \n",
       "ca       -0.072042 -0.213177  0.115739  0.222682 -0.080155  1.000000   \n",
       "thal     -0.011981 -0.096439  0.206754  0.210244 -0.104764  0.151832   \n",
       "target    0.137230  0.421741 -0.436757 -0.430696  0.345877 -0.391724   \n",
       "\n",
       "              thal    target  \n",
       "age       0.068001 -0.225439  \n",
       "sex       0.210041 -0.280937  \n",
       "cp       -0.161736  0.433798  \n",
       "trestbps  0.062210 -0.144931  \n",
       "chol      0.098803 -0.085239  \n",
       "fbs      -0.032019 -0.028046  \n",
       "restecg  -0.011981  0.137230  \n",
       "thalach  -0.096439  0.421741  \n",
       "exang     0.206754 -0.436757  \n",
       "oldpeak   0.210244 -0.430696  \n",
       "slope    -0.104764  0.345877  \n",
       "ca        0.151832 -0.391724  \n",
       "thal      1.000000 -0.344029  \n",
       "target   -0.344029  1.000000  "
      ]
     },
     "execution_count": 16,
     "metadata": {},
     "output_type": "execute_result"
    }
   ],
   "source": [
    "df.corr()"
   ]
  },
  {
   "cell_type": "code",
   "execution_count": 17,
   "id": "abebcfbe",
   "metadata": {
    "execution": {
     "iopub.execute_input": "2023-04-12T11:53:09.161668Z",
     "iopub.status.busy": "2023-04-12T11:53:09.160805Z",
     "iopub.status.idle": "2023-04-12T11:53:10.286206Z",
     "shell.execute_reply": "2023-04-12T11:53:10.285268Z"
    },
    "papermill": {
     "duration": 1.146542,
     "end_time": "2023-04-12T11:53:10.289899",
     "exception": false,
     "start_time": "2023-04-12T11:53:09.143357",
     "status": "completed"
    },
    "tags": []
   },
   "outputs": [
    {
     "data": {
      "image/png": "[encoded data removed]",
      "text/plain": [
       "<Figure size 1200x700 with 2 Axes>"
      ]
     },
     "metadata": {},
     "output_type": "display_data"
    }
   ],
   "source": [
    "# Visualising Graphically\n",
    "corr_matrix = df.corr()\n",
    "fig , ax = plt.subplots(figsize = (12,7))\n",
    "ax = sns.heatmap(corr_matrix , annot = True , linewidths = 0.5 , fmt = \".2f\", cmap = sns.cubehelix_palette(as_cmap=True))"
   ]
  },
  {
   "cell_type": "markdown",
   "id": "167a57b1",
   "metadata": {
    "papermill": {
     "duration": 0.018444,
     "end_time": "2023-04-12T11:53:10.327078",
     "exception": false,
     "start_time": "2023-04-12T11:53:10.308634",
     "status": "completed"
    },
    "tags": []
   },
   "source": [
    "## Modelling "
   ]
  },
  {
   "cell_type": "code",
   "execution_count": 18,
   "id": "04534a70",
   "metadata": {
    "execution": {
     "iopub.execute_input": "2023-04-12T11:53:10.364830Z",
     "iopub.status.busy": "2023-04-12T11:53:10.364519Z",
     "iopub.status.idle": "2023-04-12T11:53:10.372888Z",
     "shell.execute_reply": "2023-04-12T11:53:10.372250Z"
    },
    "papermill": {
     "duration": 0.02957,
     "end_time": "2023-04-12T11:53:10.374763",
     "exception": false,
     "start_time": "2023-04-12T11:53:10.345193",
     "status": "completed"
    },
    "tags": []
   },
   "outputs": [],
   "source": [
    "#Spliting the dataset\n",
    "X = df.drop(\"target\" , axis = 1)\n",
    "y = df[\"target\"]\n",
    "\n",
    "#setting the random seed\n",
    "np.random.seed(42)\n",
    "\n",
    "#Splitting the data\n",
    "X_train, X_test, y_train , y_test = train_test_split(X,y , test_size = 0.2, stratify = y)"
   ]
  },
  {
   "cell_type": "code",
   "execution_count": 19,
   "id": "c5f96125",
   "metadata": {
    "execution": {
     "iopub.execute_input": "2023-04-12T11:53:10.412375Z",
     "iopub.status.busy": "2023-04-12T11:53:10.411833Z",
     "iopub.status.idle": "2023-04-12T11:53:10.427544Z",
     "shell.execute_reply": "2023-04-12T11:53:10.426524Z"
    },
    "papermill": {
     "duration": 0.036854,
     "end_time": "2023-04-12T11:53:10.429668",
     "exception": false,
     "start_time": "2023-04-12T11:53:10.392814",
     "status": "completed"
    },
    "tags": []
   },
   "outputs": [
    {
     "data": {
      "text/html": [
       "<div>\n",
       "<style scoped>\n",
       "    .dataframe tbody tr th:only-of-type {\n",
       "        vertical-align: middle;\n",
       "    }\n",
       "\n",
       "    .dataframe tbody tr th {\n",
       "        vertical-align: top;\n",
       "    }\n",
       "\n",
       "    .dataframe thead th {\n",
       "        text-align: right;\n",
       "    }\n",
       "</style>\n",
       "<table border=\"1\" class=\"dataframe\">\n",
       "  <thead>\n",
       "    <tr style=\"text-align: right;\">\n",
       "      <th></th>\n",
       "      <th>age</th>\n",
       "      <th>sex</th>\n",
       "      <th>cp</th>\n",
       "      <th>trestbps</th>\n",
       "      <th>chol</th>\n",
       "      <th>fbs</th>\n",
       "      <th>restecg</th>\n",
       "      <th>thalach</th>\n",
       "      <th>exang</th>\n",
       "      <th>oldpeak</th>\n",
       "      <th>slope</th>\n",
       "      <th>ca</th>\n",
       "      <th>thal</th>\n",
       "    </tr>\n",
       "  </thead>\n",
       "  <tbody>\n",
       "    <tr>\n",
       "      <th>0</th>\n",
       "      <td>63</td>\n",
       "      <td>1</td>\n",
       "      <td>3</td>\n",
       "      <td>145</td>\n",
       "      <td>233</td>\n",
       "      <td>1</td>\n",
       "      <td>0</td>\n",
       "      <td>150</td>\n",
       "      <td>0</td>\n",
       "      <td>2.3</td>\n",
       "      <td>0</td>\n",
       "      <td>0</td>\n",
       "      <td>1</td>\n",
       "    </tr>\n",
       "    <tr>\n",
       "      <th>1</th>\n",
       "      <td>37</td>\n",
       "      <td>1</td>\n",
       "      <td>2</td>\n",
       "      <td>130</td>\n",
       "      <td>250</td>\n",
       "      <td>0</td>\n",
       "      <td>1</td>\n",
       "      <td>187</td>\n",
       "      <td>0</td>\n",
       "      <td>3.5</td>\n",
       "      <td>0</td>\n",
       "      <td>0</td>\n",
       "      <td>2</td>\n",
       "    </tr>\n",
       "    <tr>\n",
       "      <th>2</th>\n",
       "      <td>41</td>\n",
       "      <td>0</td>\n",
       "      <td>1</td>\n",
       "      <td>130</td>\n",
       "      <td>204</td>\n",
       "      <td>0</td>\n",
       "      <td>0</td>\n",
       "      <td>172</td>\n",
       "      <td>0</td>\n",
       "      <td>1.4</td>\n",
       "      <td>2</td>\n",
       "      <td>0</td>\n",
       "      <td>2</td>\n",
       "    </tr>\n",
       "    <tr>\n",
       "      <th>3</th>\n",
       "      <td>56</td>\n",
       "      <td>1</td>\n",
       "      <td>1</td>\n",
       "      <td>120</td>\n",
       "      <td>236</td>\n",
       "      <td>0</td>\n",
       "      <td>1</td>\n",
       "      <td>178</td>\n",
       "      <td>0</td>\n",
       "      <td>0.8</td>\n",
       "      <td>2</td>\n",
       "      <td>0</td>\n",
       "      <td>2</td>\n",
       "    </tr>\n",
       "    <tr>\n",
       "      <th>4</th>\n",
       "      <td>57</td>\n",
       "      <td>0</td>\n",
       "      <td>0</td>\n",
       "      <td>120</td>\n",
       "      <td>354</td>\n",
       "      <td>0</td>\n",
       "      <td>1</td>\n",
       "      <td>163</td>\n",
       "      <td>1</td>\n",
       "      <td>0.6</td>\n",
       "      <td>2</td>\n",
       "      <td>0</td>\n",
       "      <td>2</td>\n",
       "    </tr>\n",
       "    <tr>\n",
       "      <th>...</th>\n",
       "      <td>...</td>\n",
       "      <td>...</td>\n",
       "      <td>...</td>\n",
       "      <td>...</td>\n",
       "      <td>...</td>\n",
       "      <td>...</td>\n",
       "      <td>...</td>\n",
       "      <td>...</td>\n",
       "      <td>...</td>\n",
       "      <td>...</td>\n",
       "      <td>...</td>\n",
       "      <td>...</td>\n",
       "      <td>...</td>\n",
       "    </tr>\n",
       "    <tr>\n",
       "      <th>298</th>\n",
       "      <td>57</td>\n",
       "      <td>0</td>\n",
       "      <td>0</td>\n",
       "      <td>140</td>\n",
       "      <td>241</td>\n",
       "      <td>0</td>\n",
       "      <td>1</td>\n",
       "      <td>123</td>\n",
       "      <td>1</td>\n",
       "      <td>0.2</td>\n",
       "      <td>1</td>\n",
       "      <td>0</td>\n",
       "      <td>3</td>\n",
       "    </tr>\n",
       "    <tr>\n",
       "      <th>299</th>\n",
       "      <td>45</td>\n",
       "      <td>1</td>\n",
       "      <td>3</td>\n",
       "      <td>110</td>\n",
       "      <td>264</td>\n",
       "      <td>0</td>\n",
       "      <td>1</td>\n",
       "      <td>132</td>\n",
       "      <td>0</td>\n",
       "      <td>1.2</td>\n",
       "      <td>1</td>\n",
       "      <td>0</td>\n",
       "      <td>3</td>\n",
       "    </tr>\n",
       "    <tr>\n",
       "      <th>300</th>\n",
       "      <td>68</td>\n",
       "      <td>1</td>\n",
       "      <td>0</td>\n",
       "      <td>144</td>\n",
       "      <td>193</td>\n",
       "      <td>1</td>\n",
       "      <td>1</td>\n",
       "      <td>141</td>\n",
       "      <td>0</td>\n",
       "      <td>3.4</td>\n",
       "      <td>1</td>\n",
       "      <td>2</td>\n",
       "      <td>3</td>\n",
       "    </tr>\n",
       "    <tr>\n",
       "      <th>301</th>\n",
       "      <td>57</td>\n",
       "      <td>1</td>\n",
       "      <td>0</td>\n",
       "      <td>130</td>\n",
       "      <td>131</td>\n",
       "      <td>0</td>\n",
       "      <td>1</td>\n",
       "      <td>115</td>\n",
       "      <td>1</td>\n",
       "      <td>1.2</td>\n",
       "      <td>1</td>\n",
       "      <td>1</td>\n",
       "      <td>3</td>\n",
       "    </tr>\n",
       "    <tr>\n",
       "      <th>302</th>\n",
       "      <td>57</td>\n",
       "      <td>0</td>\n",
       "      <td>1</td>\n",
       "      <td>130</td>\n",
       "      <td>236</td>\n",
       "      <td>0</td>\n",
       "      <td>0</td>\n",
       "      <td>174</td>\n",
       "      <td>0</td>\n",
       "      <td>0.0</td>\n",
       "      <td>1</td>\n",
       "      <td>1</td>\n",
       "      <td>2</td>\n",
       "    </tr>\n",
       "  </tbody>\n",
       "</table>\n",
       "<p>303 rows × 13 columns</p>\n",
       "</div>"
      ],
      "text/plain": [
       "     age  sex  cp  trestbps  chol  fbs  restecg  thalach  exang  oldpeak  \\\n",
       "0     63    1   3       145   233    1        0      150      0      2.3   \n",
       "1     37    1   2       130   250    0        1      187      0      3.5   \n",
       "2     41    0   1       130   204    0        0      172      0      1.4   \n",
       "3     56    1   1       120   236    0        1      178      0      0.8   \n",
       "4     57    0   0       120   354    0        1      163      1      0.6   \n",
       "..   ...  ...  ..       ...   ...  ...      ...      ...    ...      ...   \n",
       "298   57    0   0       140   241    0        1      123      1      0.2   \n",
       "299   45    1   3       110   264    0        1      132      0      1.2   \n",
       "300   68    1   0       144   193    1        1      141      0      3.4   \n",
       "301   57    1   0       130   131    0        1      115      1      1.2   \n",
       "302   57    0   1       130   236    0        0      174      0      0.0   \n",
       "\n",
       "     slope  ca  thal  \n",
       "0        0   0     1  \n",
       "1        0   0     2  \n",
       "2        2   0     2  \n",
       "3        2   0     2  \n",
       "4        2   0     2  \n",
       "..     ...  ..   ...  \n",
       "298      1   0     3  \n",
       "299      1   0     3  \n",
       "300      1   2     3  \n",
       "301      1   1     3  \n",
       "302      1   1     2  \n",
       "\n",
       "[303 rows x 13 columns]"
      ]
     },
     "execution_count": 19,
     "metadata": {},
     "output_type": "execute_result"
    }
   ],
   "source": [
    "X"
   ]
  },
  {
   "cell_type": "code",
   "execution_count": 20,
   "id": "3e86ec00",
   "metadata": {
    "execution": {
     "iopub.execute_input": "2023-04-12T11:53:10.468699Z",
     "iopub.status.busy": "2023-04-12T11:53:10.468418Z",
     "iopub.status.idle": "2023-04-12T11:53:10.475367Z",
     "shell.execute_reply": "2023-04-12T11:53:10.474402Z"
    },
    "papermill": {
     "duration": 0.028344,
     "end_time": "2023-04-12T11:53:10.477434",
     "exception": false,
     "start_time": "2023-04-12T11:53:10.449090",
     "status": "completed"
    },
    "tags": []
   },
   "outputs": [
    {
     "data": {
      "text/plain": [
       "19     1\n",
       "247    0\n",
       "289    0\n",
       "288    0\n",
       "60     1\n",
       "      ..\n",
       "39     1\n",
       "104    1\n",
       "140    1\n",
       "114    1\n",
       "110    1\n",
       "Name: target, Length: 242, dtype: int64"
      ]
     },
     "execution_count": 20,
     "metadata": {},
     "output_type": "execute_result"
    }
   ],
   "source": [
    "y_train"
   ]
  },
  {
   "cell_type": "code",
   "execution_count": 21,
   "id": "fc0b9b3b",
   "metadata": {
    "execution": {
     "iopub.execute_input": "2023-04-12T11:53:10.515769Z",
     "iopub.status.busy": "2023-04-12T11:53:10.515495Z",
     "iopub.status.idle": "2023-04-12T11:53:10.532230Z",
     "shell.execute_reply": "2023-04-12T11:53:10.531241Z"
    },
    "papermill": {
     "duration": 0.038215,
     "end_time": "2023-04-12T11:53:10.534276",
     "exception": false,
     "start_time": "2023-04-12T11:53:10.496061",
     "status": "completed"
    },
    "tags": []
   },
   "outputs": [
    {
     "data": {
      "text/html": [
       "<div>\n",
       "<style scoped>\n",
       "    .dataframe tbody tr th:only-of-type {\n",
       "        vertical-align: middle;\n",
       "    }\n",
       "\n",
       "    .dataframe tbody tr th {\n",
       "        vertical-align: top;\n",
       "    }\n",
       "\n",
       "    .dataframe thead th {\n",
       "        text-align: right;\n",
       "    }\n",
       "</style>\n",
       "<table border=\"1\" class=\"dataframe\">\n",
       "  <thead>\n",
       "    <tr style=\"text-align: right;\">\n",
       "      <th></th>\n",
       "      <th>age</th>\n",
       "      <th>sex</th>\n",
       "      <th>cp</th>\n",
       "      <th>trestbps</th>\n",
       "      <th>chol</th>\n",
       "      <th>fbs</th>\n",
       "      <th>restecg</th>\n",
       "      <th>thalach</th>\n",
       "      <th>exang</th>\n",
       "      <th>oldpeak</th>\n",
       "      <th>slope</th>\n",
       "      <th>ca</th>\n",
       "      <th>thal</th>\n",
       "    </tr>\n",
       "  </thead>\n",
       "  <tbody>\n",
       "    <tr>\n",
       "      <th>19</th>\n",
       "      <td>69</td>\n",
       "      <td>0</td>\n",
       "      <td>3</td>\n",
       "      <td>140</td>\n",
       "      <td>239</td>\n",
       "      <td>0</td>\n",
       "      <td>1</td>\n",
       "      <td>151</td>\n",
       "      <td>0</td>\n",
       "      <td>1.8</td>\n",
       "      <td>2</td>\n",
       "      <td>2</td>\n",
       "      <td>2</td>\n",
       "    </tr>\n",
       "    <tr>\n",
       "      <th>247</th>\n",
       "      <td>66</td>\n",
       "      <td>1</td>\n",
       "      <td>1</td>\n",
       "      <td>160</td>\n",
       "      <td>246</td>\n",
       "      <td>0</td>\n",
       "      <td>1</td>\n",
       "      <td>120</td>\n",
       "      <td>1</td>\n",
       "      <td>0.0</td>\n",
       "      <td>1</td>\n",
       "      <td>3</td>\n",
       "      <td>1</td>\n",
       "    </tr>\n",
       "    <tr>\n",
       "      <th>289</th>\n",
       "      <td>55</td>\n",
       "      <td>0</td>\n",
       "      <td>0</td>\n",
       "      <td>128</td>\n",
       "      <td>205</td>\n",
       "      <td>0</td>\n",
       "      <td>2</td>\n",
       "      <td>130</td>\n",
       "      <td>1</td>\n",
       "      <td>2.0</td>\n",
       "      <td>1</td>\n",
       "      <td>1</td>\n",
       "      <td>3</td>\n",
       "    </tr>\n",
       "    <tr>\n",
       "      <th>288</th>\n",
       "      <td>57</td>\n",
       "      <td>1</td>\n",
       "      <td>0</td>\n",
       "      <td>110</td>\n",
       "      <td>335</td>\n",
       "      <td>0</td>\n",
       "      <td>1</td>\n",
       "      <td>143</td>\n",
       "      <td>1</td>\n",
       "      <td>3.0</td>\n",
       "      <td>1</td>\n",
       "      <td>1</td>\n",
       "      <td>3</td>\n",
       "    </tr>\n",
       "    <tr>\n",
       "      <th>60</th>\n",
       "      <td>71</td>\n",
       "      <td>0</td>\n",
       "      <td>2</td>\n",
       "      <td>110</td>\n",
       "      <td>265</td>\n",
       "      <td>1</td>\n",
       "      <td>0</td>\n",
       "      <td>130</td>\n",
       "      <td>0</td>\n",
       "      <td>0.0</td>\n",
       "      <td>2</td>\n",
       "      <td>1</td>\n",
       "      <td>2</td>\n",
       "    </tr>\n",
       "    <tr>\n",
       "      <th>...</th>\n",
       "      <td>...</td>\n",
       "      <td>...</td>\n",
       "      <td>...</td>\n",
       "      <td>...</td>\n",
       "      <td>...</td>\n",
       "      <td>...</td>\n",
       "      <td>...</td>\n",
       "      <td>...</td>\n",
       "      <td>...</td>\n",
       "      <td>...</td>\n",
       "      <td>...</td>\n",
       "      <td>...</td>\n",
       "      <td>...</td>\n",
       "    </tr>\n",
       "    <tr>\n",
       "      <th>39</th>\n",
       "      <td>65</td>\n",
       "      <td>0</td>\n",
       "      <td>2</td>\n",
       "      <td>160</td>\n",
       "      <td>360</td>\n",
       "      <td>0</td>\n",
       "      <td>0</td>\n",
       "      <td>151</td>\n",
       "      <td>0</td>\n",
       "      <td>0.8</td>\n",
       "      <td>2</td>\n",
       "      <td>0</td>\n",
       "      <td>2</td>\n",
       "    </tr>\n",
       "    <tr>\n",
       "      <th>104</th>\n",
       "      <td>50</td>\n",
       "      <td>1</td>\n",
       "      <td>2</td>\n",
       "      <td>129</td>\n",
       "      <td>196</td>\n",
       "      <td>0</td>\n",
       "      <td>1</td>\n",
       "      <td>163</td>\n",
       "      <td>0</td>\n",
       "      <td>0.0</td>\n",
       "      <td>2</td>\n",
       "      <td>0</td>\n",
       "      <td>2</td>\n",
       "    </tr>\n",
       "    <tr>\n",
       "      <th>140</th>\n",
       "      <td>51</td>\n",
       "      <td>0</td>\n",
       "      <td>2</td>\n",
       "      <td>120</td>\n",
       "      <td>295</td>\n",
       "      <td>0</td>\n",
       "      <td>0</td>\n",
       "      <td>157</td>\n",
       "      <td>0</td>\n",
       "      <td>0.6</td>\n",
       "      <td>2</td>\n",
       "      <td>0</td>\n",
       "      <td>2</td>\n",
       "    </tr>\n",
       "    <tr>\n",
       "      <th>114</th>\n",
       "      <td>55</td>\n",
       "      <td>1</td>\n",
       "      <td>1</td>\n",
       "      <td>130</td>\n",
       "      <td>262</td>\n",
       "      <td>0</td>\n",
       "      <td>1</td>\n",
       "      <td>155</td>\n",
       "      <td>0</td>\n",
       "      <td>0.0</td>\n",
       "      <td>2</td>\n",
       "      <td>0</td>\n",
       "      <td>2</td>\n",
       "    </tr>\n",
       "    <tr>\n",
       "      <th>110</th>\n",
       "      <td>64</td>\n",
       "      <td>0</td>\n",
       "      <td>0</td>\n",
       "      <td>180</td>\n",
       "      <td>325</td>\n",
       "      <td>0</td>\n",
       "      <td>1</td>\n",
       "      <td>154</td>\n",
       "      <td>1</td>\n",
       "      <td>0.0</td>\n",
       "      <td>2</td>\n",
       "      <td>0</td>\n",
       "      <td>2</td>\n",
       "    </tr>\n",
       "  </tbody>\n",
       "</table>\n",
       "<p>242 rows × 13 columns</p>\n",
       "</div>"
      ],
      "text/plain": [
       "     age  sex  cp  trestbps  chol  fbs  restecg  thalach  exang  oldpeak  \\\n",
       "19    69    0   3       140   239    0        1      151      0      1.8   \n",
       "247   66    1   1       160   246    0        1      120      1      0.0   \n",
       "289   55    0   0       128   205    0        2      130      1      2.0   \n",
       "288   57    1   0       110   335    0        1      143      1      3.0   \n",
       "60    71    0   2       110   265    1        0      130      0      0.0   \n",
       "..   ...  ...  ..       ...   ...  ...      ...      ...    ...      ...   \n",
       "39    65    0   2       160   360    0        0      151      0      0.8   \n",
       "104   50    1   2       129   196    0        1      163      0      0.0   \n",
       "140   51    0   2       120   295    0        0      157      0      0.6   \n",
       "114   55    1   1       130   262    0        1      155      0      0.0   \n",
       "110   64    0   0       180   325    0        1      154      1      0.0   \n",
       "\n",
       "     slope  ca  thal  \n",
       "19       2   2     2  \n",
       "247      1   3     1  \n",
       "289      1   1     3  \n",
       "288      1   1     3  \n",
       "60       2   1     2  \n",
       "..     ...  ..   ...  \n",
       "39       2   0     2  \n",
       "104      2   0     2  \n",
       "140      2   0     2  \n",
       "114      2   0     2  \n",
       "110      2   0     2  \n",
       "\n",
       "[242 rows x 13 columns]"
      ]
     },
     "execution_count": 21,
     "metadata": {},
     "output_type": "execute_result"
    }
   ],
   "source": [
    "X_train "
   ]
  },
  {
   "cell_type": "markdown",
   "id": "02d10788",
   "metadata": {
    "papermill": {
     "duration": 0.018743,
     "end_time": "2023-04-12T11:53:10.571943",
     "exception": false,
     "start_time": "2023-04-12T11:53:10.553200",
     "status": "completed"
    },
    "tags": []
   },
   "source": [
    "## Training the Model"
   ]
  },
  {
   "cell_type": "markdown",
   "id": "2d50c24f",
   "metadata": {
    "papermill": {
     "duration": 0.018848,
     "end_time": "2023-04-12T11:53:10.609770",
     "exception": false,
     "start_time": "2023-04-12T11:53:10.590922",
     "status": "completed"
    },
    "tags": []
   },
   "source": [
    "Using Reference from https://scikit-learn.org/stable/tutorial/machine_learning_map/index.html \n",
    "\n",
    "*We are going to use three models:* \n",
    "\n",
    "> 1.  Logistic Regression\n",
    "> 2. K-Nearest Neighbour Classifier\n",
    "> 3. Random Forest Classifier\n",
    "> 4. Decision Tree Classifier\n",
    "> 5. Naive Bayes Classifier"
   ]
  },
  {
   "cell_type": "code",
   "execution_count": 22,
   "id": "705515aa",
   "metadata": {
    "execution": {
     "iopub.execute_input": "2023-04-12T11:53:10.649370Z",
     "iopub.status.busy": "2023-04-12T11:53:10.648510Z",
     "iopub.status.idle": "2023-04-12T11:53:10.652969Z",
     "shell.execute_reply": "2023-04-12T11:53:10.651929Z"
    },
    "papermill": {
     "duration": 0.026527,
     "end_time": "2023-04-12T11:53:10.655168",
     "exception": false,
     "start_time": "2023-04-12T11:53:10.628641",
     "status": "completed"
    },
    "tags": []
   },
   "outputs": [],
   "source": [
    "#Creating an empty list to store model scores \n",
    "model_scores = []\n"
   ]
  },
  {
   "cell_type": "markdown",
   "id": "3b776931",
   "metadata": {
    "papermill": {
     "duration": 0.019008,
     "end_time": "2023-04-12T11:53:10.693339",
     "exception": false,
     "start_time": "2023-04-12T11:53:10.674331",
     "status": "completed"
    },
    "tags": []
   },
   "source": [
    "### Logistic Regression"
   ]
  },
  {
   "cell_type": "code",
   "execution_count": 23,
   "id": "68f2fe82",
   "metadata": {
    "execution": {
     "iopub.execute_input": "2023-04-12T11:53:10.732705Z",
     "iopub.status.busy": "2023-04-12T11:53:10.732092Z",
     "iopub.status.idle": "2023-04-12T11:53:10.880472Z",
     "shell.execute_reply": "2023-04-12T11:53:10.879511Z"
    },
    "papermill": {
     "duration": 0.170507,
     "end_time": "2023-04-12T11:53:10.882591",
     "exception": false,
     "start_time": "2023-04-12T11:53:10.712084",
     "status": "completed"
    },
    "tags": []
   },
   "outputs": [
    {
     "name": "stderr",
     "output_type": "stream",
     "text": [
      "/opt/conda/lib/python3.7/site-packages/sklearn/linear_model/_logistic.py:818: ConvergenceWarning: lbfgs failed to converge (status=1):\n",
      "STOP: TOTAL NO. of ITERATIONS REACHED LIMIT.\n",
      "\n",
      "Increase the number of iterations (max_iter) or scale the data as shown in:\n",
      "    https://scikit-learn.org/stable/modules/preprocessing.html\n",
      "Please also refer to the documentation for alternative solver options:\n",
      "    https://scikit-learn.org/stable/modules/linear_model.html#logistic-regression\n",
      "  extra_warning_msg=_LOGISTIC_SOLVER_CONVERGENCE_MSG,\n"
     ]
    },
    {
     "data": {
      "text/plain": [
       "0.8032786885245902"
      ]
     },
     "execution_count": 23,
     "metadata": {},
     "output_type": "execute_result"
    }
   ],
   "source": [
    "Logistic_clf = LogisticRegression()\n",
    "Logistic_clf.fit(X_train , y_train)\n",
    "model_scores.append(Logistic_clf.score(X_test , y_test))\n",
    "Logistic_clf.score(X_test , y_test)"
   ]
  },
  {
   "cell_type": "markdown",
   "id": "2f596e3e",
   "metadata": {
    "papermill": {
     "duration": 0.018955,
     "end_time": "2023-04-12T11:53:10.920985",
     "exception": false,
     "start_time": "2023-04-12T11:53:10.902030",
     "status": "completed"
    },
    "tags": []
   },
   "source": [
    "### KNN Classifier"
   ]
  },
  {
   "cell_type": "code",
   "execution_count": 24,
   "id": "a340162d",
   "metadata": {
    "execution": {
     "iopub.execute_input": "2023-04-12T11:53:10.960550Z",
     "iopub.status.busy": "2023-04-12T11:53:10.960215Z",
     "iopub.status.idle": "2023-04-12T11:53:10.978381Z",
     "shell.execute_reply": "2023-04-12T11:53:10.977329Z"
    },
    "papermill": {
     "duration": 0.040425,
     "end_time": "2023-04-12T11:53:10.980560",
     "exception": false,
     "start_time": "2023-04-12T11:53:10.940135",
     "status": "completed"
    },
    "tags": []
   },
   "outputs": [
    {
     "data": {
      "text/plain": [
       "0.5901639344262295"
      ]
     },
     "execution_count": 24,
     "metadata": {},
     "output_type": "execute_result"
    }
   ],
   "source": [
    "KNN_clf = KNeighborsClassifier(n_neighbors = 4)\n",
    "KNN_clf.fit(X_train , y_train)\n",
    "\n",
    "model_scores.append(KNN_clf.score(X_test , y_test))\n",
    "KNN_clf.score(X_test , y_test)"
   ]
  },
  {
   "cell_type": "markdown",
   "id": "8a33457b",
   "metadata": {
    "papermill": {
     "duration": 0.019193,
     "end_time": "2023-04-12T11:53:11.019060",
     "exception": false,
     "start_time": "2023-04-12T11:53:10.999867",
     "status": "completed"
    },
    "tags": []
   },
   "source": [
    "### Random Forest Classifier "
   ]
  },
  {
   "cell_type": "code",
   "execution_count": 25,
   "id": "31e376ec",
   "metadata": {
    "execution": {
     "iopub.execute_input": "2023-04-12T11:53:11.058547Z",
     "iopub.status.busy": "2023-04-12T11:53:11.058222Z",
     "iopub.status.idle": "2023-04-12T11:53:11.218856Z",
     "shell.execute_reply": "2023-04-12T11:53:11.217756Z"
    },
    "papermill": {
     "duration": 0.183242,
     "end_time": "2023-04-12T11:53:11.221364",
     "exception": false,
     "start_time": "2023-04-12T11:53:11.038122",
     "status": "completed"
    },
    "tags": []
   },
   "outputs": [
    {
     "data": {
      "text/plain": [
       "0.8032786885245902"
      ]
     },
     "execution_count": 25,
     "metadata": {},
     "output_type": "execute_result"
    }
   ],
   "source": [
    "RandomForest_clf = RandomForestClassifier(n_estimators = 100)\n",
    "RandomForest_clf.fit(X_train , y_train )\n",
    "model_scores.append(RandomForest_clf.score(X_test , y_test))\n",
    "RandomForest_clf.score(X_test , y_test)"
   ]
  },
  {
   "cell_type": "markdown",
   "id": "e139af2a",
   "metadata": {
    "papermill": {
     "duration": 0.019319,
     "end_time": "2023-04-12T11:53:11.259981",
     "exception": false,
     "start_time": "2023-04-12T11:53:11.240662",
     "status": "completed"
    },
    "tags": []
   },
   "source": [
    "### Decision Tree "
   ]
  },
  {
   "cell_type": "code",
   "execution_count": 26,
   "id": "68e2fc32",
   "metadata": {
    "execution": {
     "iopub.execute_input": "2023-04-12T11:53:11.300139Z",
     "iopub.status.busy": "2023-04-12T11:53:11.299560Z",
     "iopub.status.idle": "2023-04-12T11:53:11.312954Z",
     "shell.execute_reply": "2023-04-12T11:53:11.311911Z"
    },
    "papermill": {
     "duration": 0.035684,
     "end_time": "2023-04-12T11:53:11.315044",
     "exception": false,
     "start_time": "2023-04-12T11:53:11.279360",
     "status": "completed"
    },
    "tags": []
   },
   "outputs": [
    {
     "data": {
      "text/plain": [
       "0.7213114754098361"
      ]
     },
     "execution_count": 26,
     "metadata": {},
     "output_type": "execute_result"
    }
   ],
   "source": [
    "from sklearn.tree import DecisionTreeClassifier\n",
    "\n",
    "tree = DecisionTreeClassifier(max_depth=8, random_state=0)\n",
    "tree.fit(X_train, y_train)\n",
    "\n",
    "model_scores.append(tree.score(X_test, y_test))\n",
    "tree.score(X_test, y_test)"
   ]
  },
  {
   "cell_type": "markdown",
   "id": "39e4b985",
   "metadata": {
    "papermill": {
     "duration": 0.019019,
     "end_time": "2023-04-12T11:53:11.353446",
     "exception": false,
     "start_time": "2023-04-12T11:53:11.334427",
     "status": "completed"
    },
    "tags": []
   },
   "source": [
    "### Naive Bayes"
   ]
  },
  {
   "cell_type": "code",
   "execution_count": 27,
   "id": "98f7b637",
   "metadata": {
    "execution": {
     "iopub.execute_input": "2023-04-12T11:53:11.393926Z",
     "iopub.status.busy": "2023-04-12T11:53:11.393337Z",
     "iopub.status.idle": "2023-04-12T11:53:11.412479Z",
     "shell.execute_reply": "2023-04-12T11:53:11.411317Z"
    },
    "papermill": {
     "duration": 0.041991,
     "end_time": "2023-04-12T11:53:11.414594",
     "exception": false,
     "start_time": "2023-04-12T11:53:11.372603",
     "status": "completed"
    },
    "tags": []
   },
   "outputs": [
    {
     "data": {
      "text/plain": [
       "0.819672131147541"
      ]
     },
     "execution_count": 27,
     "metadata": {},
     "output_type": "execute_result"
    }
   ],
   "source": [
    "from sklearn.naive_bayes import GaussianNB  \n",
    "NaiveBayes_clf = GaussianNB()  \n",
    "NaiveBayes_clf.fit(X_train, y_train)\n",
    "model_scores.append(NaiveBayes_clf.score(X_test , y_test))\n",
    "NaiveBayes_clf.score(X_test, y_test)"
   ]
  },
  {
   "cell_type": "code",
   "execution_count": 28,
   "id": "e4dd95a4",
   "metadata": {
    "execution": {
     "iopub.execute_input": "2023-04-12T11:53:11.458034Z",
     "iopub.status.busy": "2023-04-12T11:53:11.457711Z",
     "iopub.status.idle": "2023-04-12T11:53:11.464461Z",
     "shell.execute_reply": "2023-04-12T11:53:11.463279Z"
    },
    "papermill": {
     "duration": 0.032036,
     "end_time": "2023-04-12T11:53:11.466586",
     "exception": false,
     "start_time": "2023-04-12T11:53:11.434550",
     "status": "completed"
    },
    "tags": []
   },
   "outputs": [
    {
     "data": {
      "text/plain": [
       "[0.8032786885245902,\n",
       " 0.5901639344262295,\n",
       " 0.8032786885245902,\n",
       " 0.7213114754098361,\n",
       " 0.819672131147541]"
      ]
     },
     "execution_count": 28,
     "metadata": {},
     "output_type": "execute_result"
    }
   ],
   "source": [
    "model_scores"
   ]
  },
  {
   "cell_type": "code",
   "execution_count": 29,
   "id": "fa79e264",
   "metadata": {
    "execution": {
     "iopub.execute_input": "2023-04-12T11:53:11.508801Z",
     "iopub.status.busy": "2023-04-12T11:53:11.507993Z",
     "iopub.status.idle": "2023-04-12T11:53:12.890310Z",
     "shell.execute_reply": "2023-04-12T11:53:12.889325Z"
    },
    "papermill": {
     "duration": 1.405651,
     "end_time": "2023-04-12T11:53:12.892985",
     "exception": false,
     "start_time": "2023-04-12T11:53:11.487334",
     "status": "completed"
    },
    "tags": []
   },
   "outputs": [],
   "source": [
    "train_scores = []\n",
    "test_scores = []\n",
    "neighbors = range(1,100)\n",
    "knn_clf = KNeighborsClassifier()\n",
    "# Tuning Hyperparameters of KNN \n",
    "for i in range(1,100):\n",
    "    knn_clf.set_params(n_neighbors = i)\n",
    "    knn_clf.fit(X_train , y_train)\n",
    "    train_scores.append(knn_clf.score(X_train , y_train))\n",
    "    test_scores.append(knn_clf.score(X_test, y_test))\n"
   ]
  },
  {
   "cell_type": "code",
   "execution_count": 30,
   "id": "7ff71a29",
   "metadata": {
    "execution": {
     "iopub.execute_input": "2023-04-12T11:53:12.934011Z",
     "iopub.status.busy": "2023-04-12T11:53:12.933703Z",
     "iopub.status.idle": "2023-04-12T11:53:12.941101Z",
     "shell.execute_reply": "2023-04-12T11:53:12.940130Z"
    },
    "papermill": {
     "duration": 0.029906,
     "end_time": "2023-04-12T11:53:12.943203",
     "exception": false,
     "start_time": "2023-04-12T11:53:12.913297",
     "status": "completed"
    },
    "tags": []
   },
   "outputs": [
    {
     "data": {
      "text/plain": [
       "[1.0,\n",
       " 0.8057851239669421,\n",
       " 0.7851239669421488,\n",
       " 0.7727272727272727,\n",
       " 0.7520661157024794,\n",
       " 0.7520661157024794,\n",
       " 0.7479338842975206,\n",
       " 0.7355371900826446,\n",
       " 0.743801652892562,\n",
       " 0.743801652892562,\n",
       " 0.7355371900826446,\n",
       " 0.7355371900826446,\n",
       " 0.7148760330578512,\n",
       " 0.7107438016528925,\n",
       " 0.71900826446281,\n",
       " 0.7107438016528925,\n",
       " 0.6983471074380165,\n",
       " 0.6942148760330579,\n",
       " 0.6983471074380165,\n",
       " 0.6983471074380165,\n",
       " 0.6942148760330579,\n",
       " 0.6900826446280992,\n",
       " 0.6983471074380165,\n",
       " 0.6942148760330579,\n",
       " 0.7107438016528925,\n",
       " 0.6859504132231405,\n",
       " 0.6983471074380165,\n",
       " 0.6983471074380165,\n",
       " 0.6942148760330579,\n",
       " 0.6859504132231405,\n",
       " 0.6859504132231405,\n",
       " 0.6776859504132231,\n",
       " 0.6652892561983471,\n",
       " 0.6900826446280992,\n",
       " 0.6818181818181818,\n",
       " 0.6818181818181818,\n",
       " 0.6818181818181818,\n",
       " 0.7024793388429752,\n",
       " 0.6611570247933884,\n",
       " 0.6570247933884298,\n",
       " 0.6652892561983471,\n",
       " 0.6528925619834711,\n",
       " 0.6694214876033058,\n",
       " 0.6694214876033058,\n",
       " 0.6570247933884298,\n",
       " 0.6611570247933884,\n",
       " 0.6570247933884298,\n",
       " 0.6570247933884298,\n",
       " 0.6735537190082644,\n",
       " 0.6694214876033058,\n",
       " 0.6652892561983471,\n",
       " 0.6652892561983471,\n",
       " 0.6487603305785123,\n",
       " 0.640495867768595,\n",
       " 0.6446280991735537,\n",
       " 0.6363636363636364,\n",
       " 0.6239669421487604,\n",
       " 0.628099173553719,\n",
       " 0.6239669421487604,\n",
       " 0.6198347107438017,\n",
       " 0.6363636363636364,\n",
       " 0.6446280991735537,\n",
       " 0.6446280991735537,\n",
       " 0.640495867768595,\n",
       " 0.640495867768595,\n",
       " 0.6239669421487604,\n",
       " 0.6446280991735537,\n",
       " 0.628099173553719,\n",
       " 0.6446280991735537,\n",
       " 0.6363636363636364,\n",
       " 0.640495867768595,\n",
       " 0.640495867768595,\n",
       " 0.640495867768595,\n",
       " 0.6363636363636364,\n",
       " 0.6363636363636364,\n",
       " 0.6322314049586777,\n",
       " 0.6528925619834711,\n",
       " 0.6363636363636364,\n",
       " 0.6446280991735537,\n",
       " 0.6363636363636364,\n",
       " 0.6446280991735537,\n",
       " 0.640495867768595,\n",
       " 0.6363636363636364,\n",
       " 0.6322314049586777,\n",
       " 0.6322314049586777,\n",
       " 0.6322314049586777,\n",
       " 0.6446280991735537,\n",
       " 0.6363636363636364,\n",
       " 0.6446280991735537,\n",
       " 0.640495867768595,\n",
       " 0.6528925619834711,\n",
       " 0.6487603305785123,\n",
       " 0.6570247933884298,\n",
       " 0.6528925619834711,\n",
       " 0.6487603305785123,\n",
       " 0.6446280991735537,\n",
       " 0.6487603305785123,\n",
       " 0.6322314049586777,\n",
       " 0.6487603305785123]"
      ]
     },
     "execution_count": 30,
     "metadata": {},
     "output_type": "execute_result"
    }
   ],
   "source": [
    "train_scores"
   ]
  },
  {
   "cell_type": "code",
   "execution_count": 31,
   "id": "a1d710b8",
   "metadata": {
    "execution": {
     "iopub.execute_input": "2023-04-12T11:53:12.984286Z",
     "iopub.status.busy": "2023-04-12T11:53:12.983368Z",
     "iopub.status.idle": "2023-04-12T11:53:12.991307Z",
     "shell.execute_reply": "2023-04-12T11:53:12.990318Z"
    },
    "papermill": {
     "duration": 0.030487,
     "end_time": "2023-04-12T11:53:12.993353",
     "exception": false,
     "start_time": "2023-04-12T11:53:12.962866",
     "status": "completed"
    },
    "tags": []
   },
   "outputs": [
    {
     "data": {
      "text/plain": [
       "[0.5409836065573771,\n",
       " 0.5409836065573771,\n",
       " 0.6229508196721312,\n",
       " 0.5901639344262295,\n",
       " 0.5901639344262295,\n",
       " 0.5737704918032787,\n",
       " 0.639344262295082,\n",
       " 0.5901639344262295,\n",
       " 0.5901639344262295,\n",
       " 0.6065573770491803,\n",
       " 0.6065573770491803,\n",
       " 0.6065573770491803,\n",
       " 0.6229508196721312,\n",
       " 0.6065573770491803,\n",
       " 0.639344262295082,\n",
       " 0.6721311475409836,\n",
       " 0.6721311475409836,\n",
       " 0.6721311475409836,\n",
       " 0.6721311475409836,\n",
       " 0.6721311475409836,\n",
       " 0.6721311475409836,\n",
       " 0.6721311475409836,\n",
       " 0.6557377049180327,\n",
       " 0.6721311475409836,\n",
       " 0.6721311475409836,\n",
       " 0.6557377049180327,\n",
       " 0.6721311475409836,\n",
       " 0.6721311475409836,\n",
       " 0.6557377049180327,\n",
       " 0.6557377049180327,\n",
       " 0.6721311475409836,\n",
       " 0.6721311475409836,\n",
       " 0.6557377049180327,\n",
       " 0.6557377049180327,\n",
       " 0.639344262295082,\n",
       " 0.6229508196721312,\n",
       " 0.6065573770491803,\n",
       " 0.6065573770491803,\n",
       " 0.6065573770491803,\n",
       " 0.6229508196721312,\n",
       " 0.6229508196721312,\n",
       " 0.6229508196721312,\n",
       " 0.6065573770491803,\n",
       " 0.6557377049180327,\n",
       " 0.6229508196721312,\n",
       " 0.6229508196721312,\n",
       " 0.639344262295082,\n",
       " 0.6557377049180327,\n",
       " 0.6557377049180327,\n",
       " 0.6229508196721312,\n",
       " 0.6721311475409836,\n",
       " 0.639344262295082,\n",
       " 0.6721311475409836,\n",
       " 0.6721311475409836,\n",
       " 0.6557377049180327,\n",
       " 0.6721311475409836,\n",
       " 0.6557377049180327,\n",
       " 0.639344262295082,\n",
       " 0.6229508196721312,\n",
       " 0.639344262295082,\n",
       " 0.639344262295082,\n",
       " 0.639344262295082,\n",
       " 0.6229508196721312,\n",
       " 0.639344262295082,\n",
       " 0.6229508196721312,\n",
       " 0.6557377049180327,\n",
       " 0.639344262295082,\n",
       " 0.639344262295082,\n",
       " 0.639344262295082,\n",
       " 0.6229508196721312,\n",
       " 0.6229508196721312,\n",
       " 0.6557377049180327,\n",
       " 0.6065573770491803,\n",
       " 0.639344262295082,\n",
       " 0.6065573770491803,\n",
       " 0.6229508196721312,\n",
       " 0.5901639344262295,\n",
       " 0.6229508196721312,\n",
       " 0.6065573770491803,\n",
       " 0.6229508196721312,\n",
       " 0.5901639344262295,\n",
       " 0.6065573770491803,\n",
       " 0.6065573770491803,\n",
       " 0.6229508196721312,\n",
       " 0.6229508196721312,\n",
       " 0.6229508196721312,\n",
       " 0.6065573770491803,\n",
       " 0.6229508196721312,\n",
       " 0.6065573770491803,\n",
       " 0.6229508196721312,\n",
       " 0.5737704918032787,\n",
       " 0.5901639344262295,\n",
       " 0.5737704918032787,\n",
       " 0.5901639344262295,\n",
       " 0.5901639344262295,\n",
       " 0.5901639344262295,\n",
       " 0.5737704918032787,\n",
       " 0.5737704918032787,\n",
       " 0.5737704918032787]"
      ]
     },
     "execution_count": 31,
     "metadata": {},
     "output_type": "execute_result"
    }
   ],
   "source": [
    "test_scores"
   ]
  },
  {
   "cell_type": "code",
   "execution_count": 32,
   "id": "deca95c9",
   "metadata": {
    "execution": {
     "iopub.execute_input": "2023-04-12T11:53:13.034349Z",
     "iopub.status.busy": "2023-04-12T11:53:13.033570Z",
     "iopub.status.idle": "2023-04-12T11:53:13.312744Z",
     "shell.execute_reply": "2023-04-12T11:53:13.311575Z"
    },
    "papermill": {
     "duration": 0.301911,
     "end_time": "2023-04-12T11:53:13.314841",
     "exception": false,
     "start_time": "2023-04-12T11:53:13.012930",
     "status": "completed"
    },
    "tags": []
   },
   "outputs": [
    {
     "data": {
      "text/plain": [
       "Text(0, 0.5, 'Model Score')"
      ]
     },
     "execution_count": 32,
     "metadata": {},
     "output_type": "execute_result"
    },
    {
     "data": {
      "image/png": "[encoded data removed]",
      "text/plain": [
       "<Figure size 640x480 with 1 Axes>"
      ]
     },
     "metadata": {},
     "output_type": "display_data"
    }
   ],
   "source": [
    "plt.plot(neighbors, train_scores , label  = \"Train Scores\" , color = \"Salmon\")\n",
    "plt.plot(neighbors, test_scores , label  = \"Test Scores\" , color = \"blue\")\n",
    "plt.xticks(np.arange(1, 100 , 5))\n",
    "plt.legend()\n",
    "plt.xlabel(\"Number of Neighbours\")\n",
    "plt.ylabel(\"Model Score\")"
   ]
  },
  {
   "cell_type": "markdown",
   "id": "be4e1252",
   "metadata": {
    "papermill": {
     "duration": 0.021222,
     "end_time": "2023-04-12T11:53:13.356594",
     "exception": false,
     "start_time": "2023-04-12T11:53:13.335372",
     "status": "completed"
    },
    "tags": []
   },
   "source": [
    "## Tuning Hyperparameters using Randomized SearchCV"
   ]
  },
  {
   "cell_type": "code",
   "execution_count": 33,
   "id": "c7fb685f",
   "metadata": {
    "execution": {
     "iopub.execute_input": "2023-04-12T11:53:13.410892Z",
     "iopub.status.busy": "2023-04-12T11:53:13.410561Z",
     "iopub.status.idle": "2023-04-12T11:53:13.416498Z",
     "shell.execute_reply": "2023-04-12T11:53:13.415460Z"
    },
    "papermill": {
     "duration": 0.029578,
     "end_time": "2023-04-12T11:53:13.418658",
     "exception": false,
     "start_time": "2023-04-12T11:53:13.389080",
     "status": "completed"
    },
    "tags": []
   },
   "outputs": [],
   "source": [
    "#generating grid space for logistic regression \n",
    "log_reg_grid = {\"C\" : np.logspace(-4,4,20) , \n",
    "               \"solver\" : [\"liblinear\"]}\n",
    "\n",
    "#Creating Grid for Random Forest \n",
    "rf_grid = {\"n_estimators\" : np.arange(10,1000 , 50) , \n",
    "          \"max_depth\" : [None, 3 ,5 , 10] ,\n",
    "          \"min_samples_split\" : np.arange(1,20,2) ,\n",
    "          \"min_samples_leaf\": np.arange(2 ,20, 2)}"
   ]
  },
  {
   "cell_type": "code",
   "execution_count": 34,
   "id": "05e83870",
   "metadata": {
    "execution": {
     "iopub.execute_input": "2023-04-12T11:53:13.461686Z",
     "iopub.status.busy": "2023-04-12T11:53:13.460906Z",
     "iopub.status.idle": "2023-04-12T11:53:13.944473Z",
     "shell.execute_reply": "2023-04-12T11:53:13.943395Z"
    },
    "papermill": {
     "duration": 0.510086,
     "end_time": "2023-04-12T11:53:13.949248",
     "exception": false,
     "start_time": "2023-04-12T11:53:13.439162",
     "status": "completed"
    },
    "tags": []
   },
   "outputs": [
    {
     "name": "stdout",
     "output_type": "stream",
     "text": [
      "Fitting 5 folds for each of 20 candidates, totalling 100 fits\n"
     ]
    },
    {
     "data": {
      "text/plain": [
       "0.7868852459016393"
      ]
     },
     "execution_count": 34,
     "metadata": {},
     "output_type": "execute_result"
    }
   ],
   "source": [
    "#Tune Logistic Regression \n",
    "np.random.seed(42)\n",
    "\n",
    "rs_log_reg = RandomizedSearchCV(LogisticRegression(),\n",
    "                                param_distributions = log_reg_grid ,\n",
    "                               cv = 5 ,\n",
    "                               n_iter = 20 ,\n",
    "                               verbose = True)\n",
    "#Fitting the model\n",
    "rs_log_reg.fit(X_train , y_train)\n",
    "rs_log_reg.score(X_test, y_test)"
   ]
  },
  {
   "cell_type": "code",
   "execution_count": 35,
   "id": "f14ee21b",
   "metadata": {
    "execution": {
     "iopub.execute_input": "2023-04-12T11:53:13.993250Z",
     "iopub.status.busy": "2023-04-12T11:53:13.992944Z",
     "iopub.status.idle": "2023-04-12T11:53:13.999108Z",
     "shell.execute_reply": "2023-04-12T11:53:13.998119Z"
    },
    "papermill": {
     "duration": 0.029828,
     "end_time": "2023-04-12T11:53:14.001141",
     "exception": false,
     "start_time": "2023-04-12T11:53:13.971313",
     "status": "completed"
    },
    "tags": []
   },
   "outputs": [
    {
     "data": {
      "text/plain": [
       "{'solver': 'liblinear', 'C': 0.23357214690901212}"
      ]
     },
     "execution_count": 35,
     "metadata": {},
     "output_type": "execute_result"
    }
   ],
   "source": [
    "rs_log_reg.best_params_"
   ]
  },
  {
   "cell_type": "code",
   "execution_count": 36,
   "id": "9210c862",
   "metadata": {
    "execution": {
     "iopub.execute_input": "2023-04-12T11:53:14.044163Z",
     "iopub.status.busy": "2023-04-12T11:53:14.043312Z",
     "iopub.status.idle": "2023-04-12T11:54:19.481473Z",
     "shell.execute_reply": "2023-04-12T11:54:19.480457Z"
    },
    "papermill": {
     "duration": 65.482593,
     "end_time": "2023-04-12T11:54:19.504373",
     "exception": false,
     "start_time": "2023-04-12T11:53:14.021780",
     "status": "completed"
    },
    "tags": []
   },
   "outputs": [
    {
     "name": "stdout",
     "output_type": "stream",
     "text": [
      "Fitting 5 folds for each of 20 candidates, totalling 100 fits\n"
     ]
    },
    {
     "data": {
      "text/plain": [
       "0.819672131147541"
      ]
     },
     "execution_count": 36,
     "metadata": {},
     "output_type": "execute_result"
    }
   ],
   "source": [
    "#Tune Logistic Regression \n",
    "np.random.seed(42)\n",
    "\n",
    "rs_rf = RandomizedSearchCV(RandomForestClassifier(),\n",
    "                                param_distributions = rf_grid ,\n",
    "                               cv = 5 ,\n",
    "                               n_iter = 20 ,\n",
    "                               verbose = True)\n",
    "#Fitting the model\n",
    "rs_rf.fit(X_train , y_train)\n",
    "rs_rf.score(X_test, y_test)"
   ]
  },
  {
   "cell_type": "code",
   "execution_count": 37,
   "id": "2479eade",
   "metadata": {
    "execution": {
     "iopub.execute_input": "2023-04-12T11:54:19.547940Z",
     "iopub.status.busy": "2023-04-12T11:54:19.547321Z",
     "iopub.status.idle": "2023-04-12T11:54:19.554337Z",
     "shell.execute_reply": "2023-04-12T11:54:19.553437Z"
    },
    "papermill": {
     "duration": 0.031369,
     "end_time": "2023-04-12T11:54:19.556491",
     "exception": false,
     "start_time": "2023-04-12T11:54:19.525122",
     "status": "completed"
    },
    "tags": []
   },
   "outputs": [
    {
     "data": {
      "text/plain": [
       "{'n_estimators': 710,\n",
       " 'min_samples_split': 13,\n",
       " 'min_samples_leaf': 4,\n",
       " 'max_depth': 10}"
      ]
     },
     "execution_count": 37,
     "metadata": {},
     "output_type": "execute_result"
    }
   ],
   "source": [
    "rs_rf.best_params_"
   ]
  },
  {
   "cell_type": "code",
   "execution_count": 38,
   "id": "056ec339",
   "metadata": {
    "execution": {
     "iopub.execute_input": "2023-04-12T11:54:19.599726Z",
     "iopub.status.busy": "2023-04-12T11:54:19.599094Z",
     "iopub.status.idle": "2023-04-12T11:54:21.620331Z",
     "shell.execute_reply": "2023-04-12T11:54:21.619169Z"
    },
    "papermill": {
     "duration": 2.045555,
     "end_time": "2023-04-12T11:54:21.622666",
     "exception": false,
     "start_time": "2023-04-12T11:54:19.577111",
     "status": "completed"
    },
    "tags": []
   },
   "outputs": [
    {
     "name": "stdout",
     "output_type": "stream",
     "text": [
      "Fitting 10 folds for each of 20 candidates, totalling 200 fits\n"
     ]
    },
    {
     "data": {
      "text/plain": [
       "RandomizedSearchCV(cv=10, estimator=GaussianNB(), n_iter=20, n_jobs=-1,\n",
       "                   param_distributions={'var_smoothing': array([1.00000000e+00, 8.11130831e-01, 6.57933225e-01, 5.33669923e-01,\n",
       "       4.32876128e-01, 3.51119173e-01, 2.84803587e-01, 2.31012970e-01,\n",
       "       1.87381742e-01, 1.51991108e-01, 1.23284674e-01, 1.00000000e-01,\n",
       "       8.11130831e-02, 6.57933225e-02, 5.33669923e-02, 4.32876128e-0...\n",
       "       1.23284674e-07, 1.00000000e-07, 8.11130831e-08, 6.57933225e-08,\n",
       "       5.33669923e-08, 4.32876128e-08, 3.51119173e-08, 2.84803587e-08,\n",
       "       2.31012970e-08, 1.87381742e-08, 1.51991108e-08, 1.23284674e-08,\n",
       "       1.00000000e-08, 8.11130831e-09, 6.57933225e-09, 5.33669923e-09,\n",
       "       4.32876128e-09, 3.51119173e-09, 2.84803587e-09, 2.31012970e-09,\n",
       "       1.87381742e-09, 1.51991108e-09, 1.23284674e-09, 1.00000000e-09])},\n",
       "                   verbose=1)"
      ]
     },
     "execution_count": 38,
     "metadata": {},
     "output_type": "execute_result"
    }
   ],
   "source": [
    "param_grid_nb = {\n",
    "    'var_smoothing': np.logspace(0,-9, num=100)\n",
    "}\n",
    "nbModel_grid = RandomizedSearchCV(estimator=GaussianNB(), param_distributions=param_grid_nb, verbose=1, cv=10, n_jobs=-1 , n_iter = 20)\n",
    "\n",
    "nbModel_grid.fit(X_train, y_train)"
   ]
  },
  {
   "cell_type": "code",
   "execution_count": 39,
   "id": "83ba3dca",
   "metadata": {
    "execution": {
     "iopub.execute_input": "2023-04-12T11:54:21.667314Z",
     "iopub.status.busy": "2023-04-12T11:54:21.666677Z",
     "iopub.status.idle": "2023-04-12T11:54:21.676532Z",
     "shell.execute_reply": "2023-04-12T11:54:21.675450Z"
    },
    "papermill": {
     "duration": 0.034152,
     "end_time": "2023-04-12T11:54:21.678623",
     "exception": false,
     "start_time": "2023-04-12T11:54:21.644471",
     "status": "completed"
    },
    "tags": []
   },
   "outputs": [
    {
     "data": {
      "text/plain": [
       "0.8032786885245902"
      ]
     },
     "execution_count": 39,
     "metadata": {},
     "output_type": "execute_result"
    }
   ],
   "source": [
    "nbModel_grid.score(X_test , y_test)"
   ]
  },
  {
   "cell_type": "code",
   "execution_count": 40,
   "id": "f8e2fd19",
   "metadata": {
    "execution": {
     "iopub.execute_input": "2023-04-12T11:54:21.722729Z",
     "iopub.status.busy": "2023-04-12T11:54:21.721785Z",
     "iopub.status.idle": "2023-04-12T11:54:22.240287Z",
     "shell.execute_reply": "2023-04-12T11:54:22.239329Z"
    },
    "papermill": {
     "duration": 0.542945,
     "end_time": "2023-04-12T11:54:22.242469",
     "exception": false,
     "start_time": "2023-04-12T11:54:21.699524",
     "status": "completed"
    },
    "tags": []
   },
   "outputs": [
    {
     "name": "stdout",
     "output_type": "stream",
     "text": [
      "Fitting 5 folds for each of 20 candidates, totalling 100 fits\n"
     ]
    },
    {
     "data": {
      "text/plain": [
       "0.7868852459016393"
      ]
     },
     "execution_count": 40,
     "metadata": {},
     "output_type": "execute_result"
    }
   ],
   "source": [
    "np.random.seed(42)\n",
    "\n",
    "rs_log_reg = RandomizedSearchCV(LogisticRegression(),\n",
    "                                param_distributions = log_reg_grid ,\n",
    "                               cv = 5 ,\n",
    "                               n_iter = 20 ,\n",
    "                               verbose = True)\n",
    "#Fitting the model\n",
    "rs_log_reg.fit(X_train , y_train)\n",
    "rs_log_reg.score(X_test, y_test) "
   ]
  },
  {
   "cell_type": "markdown",
   "id": "7da2e2a2",
   "metadata": {
    "papermill": {
     "duration": 0.021294,
     "end_time": "2023-04-12T11:54:22.285327",
     "exception": false,
     "start_time": "2023-04-12T11:54:22.264033",
     "status": "completed"
    },
    "tags": []
   },
   "source": [
    "## GridSearchCV "
   ]
  },
  {
   "cell_type": "code",
   "execution_count": 41,
   "id": "2e033831",
   "metadata": {
    "execution": {
     "iopub.execute_input": "2023-04-12T11:54:22.330175Z",
     "iopub.status.busy": "2023-04-12T11:54:22.329279Z",
     "iopub.status.idle": "2023-04-12T11:54:22.335520Z",
     "shell.execute_reply": "2023-04-12T11:54:22.334576Z"
    },
    "papermill": {
     "duration": 0.030908,
     "end_time": "2023-04-12T11:54:22.337757",
     "exception": false,
     "start_time": "2023-04-12T11:54:22.306849",
     "status": "completed"
    },
    "tags": []
   },
   "outputs": [],
   "source": [
    "#Creating Grid for Logical Regression\n",
    "log_reg_grid = {\"C\" : np.logspace(-4 ,4 ,20) ,\n",
    "               \"solver\" : [\"liblinear\"]}\n",
    "#Creating Grid for Random Forest\n",
    "rf_grid = {\"n_estimators\" : np.arange(10 , 1000 , 50), \n",
    "           \"max_depth\" : [None, 3 , 5 ,10] , \n",
    "           \"min_samples_split\" : np.arange(2 ,20 ,2) ,\n",
    "           \"min_samples_leaf\" : np.arange(1,20,2)}\n"
   ]
  },
  {
   "cell_type": "code",
   "execution_count": 42,
   "id": "251a2081",
   "metadata": {
    "execution": {
     "iopub.execute_input": "2023-04-12T11:54:22.382115Z",
     "iopub.status.busy": "2023-04-12T11:54:22.381320Z",
     "iopub.status.idle": "2023-04-12T11:54:22.887853Z",
     "shell.execute_reply": "2023-04-12T11:54:22.886750Z"
    },
    "papermill": {
     "duration": 0.531553,
     "end_time": "2023-04-12T11:54:22.890498",
     "exception": false,
     "start_time": "2023-04-12T11:54:22.358945",
     "status": "completed"
    },
    "tags": []
   },
   "outputs": [
    {
     "name": "stdout",
     "output_type": "stream",
     "text": [
      "Fitting 5 folds for each of 20 candidates, totalling 100 fits\n"
     ]
    },
    {
     "data": {
      "text/plain": [
       "0.7868852459016393"
      ]
     },
     "execution_count": 42,
     "metadata": {},
     "output_type": "execute_result"
    }
   ],
   "source": [
    "#Setup Grid hyper parameter for Logical Regression \n",
    "gs_log_Reg = GridSearchCV(LogisticRegression(),\n",
    "                         param_grid = log_reg_grid ,\n",
    "                         cv=5 ,\n",
    "                         verbose = True)\n",
    "\n",
    "gs_log_Reg.fit(X_train, y_train)\n",
    "gs_log_Reg.score(X_test , y_test)"
   ]
  },
  {
   "cell_type": "code",
   "execution_count": 43,
   "id": "e832c0e6",
   "metadata": {
    "execution": {
     "iopub.execute_input": "2023-04-12T11:54:22.935825Z",
     "iopub.status.busy": "2023-04-12T11:54:22.935032Z",
     "iopub.status.idle": "2023-04-12T11:54:22.941551Z",
     "shell.execute_reply": "2023-04-12T11:54:22.940454Z"
    },
    "papermill": {
     "duration": 0.031253,
     "end_time": "2023-04-12T11:54:22.943665",
     "exception": false,
     "start_time": "2023-04-12T11:54:22.912412",
     "status": "completed"
    },
    "tags": []
   },
   "outputs": [
    {
     "data": {
      "text/plain": [
       "{'C': 0.23357214690901212, 'solver': 'liblinear'}"
      ]
     },
     "execution_count": 43,
     "metadata": {},
     "output_type": "execute_result"
    }
   ],
   "source": [
    "gs_log_Reg.best_params_\n"
   ]
  },
  {
   "cell_type": "markdown",
   "id": "e934e909",
   "metadata": {
    "papermill": {
     "duration": 0.021279,
     "end_time": "2023-04-12T11:54:22.986239",
     "exception": false,
     "start_time": "2023-04-12T11:54:22.964960",
     "status": "completed"
    },
    "tags": []
   },
   "source": [
    "## Evaluating Models \n",
    "\n",
    "* ROC curve and AUC score\n",
    "* Confusion Matrix\n",
    "* Classification Report\n",
    "* Precision\n",
    "* Recall\n",
    "* F1 score"
   ]
  },
  {
   "cell_type": "code",
   "execution_count": 44,
   "id": "6f023ce5",
   "metadata": {
    "execution": {
     "iopub.execute_input": "2023-04-12T11:54:23.030899Z",
     "iopub.status.busy": "2023-04-12T11:54:23.030043Z",
     "iopub.status.idle": "2023-04-12T11:54:23.101836Z",
     "shell.execute_reply": "2023-04-12T11:54:23.100765Z"
    },
    "papermill": {
     "duration": 0.096533,
     "end_time": "2023-04-12T11:54:23.104060",
     "exception": false,
     "start_time": "2023-04-12T11:54:23.007527",
     "status": "completed"
    },
    "tags": []
   },
   "outputs": [
    {
     "data": {
      "text/plain": [
       "array([0, 0, 0, 1, 1, 0, 1, 0, 1, 1, 0, 1, 0, 1, 1, 1, 1, 1, 1, 1, 1, 0,\n",
       "       1, 1, 1, 0, 0, 1, 0, 1, 0, 1, 1, 0, 0, 1, 1, 1, 1, 1, 1, 1, 1, 1,\n",
       "       0, 1, 1, 1, 1, 1, 0, 1, 1, 0, 1, 1, 1, 1, 0, 0, 1])"
      ]
     },
     "execution_count": 44,
     "metadata": {},
     "output_type": "execute_result"
    }
   ],
   "source": [
    "y_preds = rs_rf.predict(X_test)\n",
    "y_preds"
   ]
  },
  {
   "cell_type": "code",
   "execution_count": 45,
   "id": "eb54e04e",
   "metadata": {
    "execution": {
     "iopub.execute_input": "2023-04-12T11:54:23.149295Z",
     "iopub.status.busy": "2023-04-12T11:54:23.148421Z",
     "iopub.status.idle": "2023-04-12T11:54:23.156303Z",
     "shell.execute_reply": "2023-04-12T11:54:23.155269Z"
    },
    "papermill": {
     "duration": 0.032509,
     "end_time": "2023-04-12T11:54:23.158378",
     "exception": false,
     "start_time": "2023-04-12T11:54:23.125869",
     "status": "completed"
    },
    "tags": []
   },
   "outputs": [
    {
     "data": {
      "text/plain": [
       "179    0\n",
       "197    0\n",
       "285    0\n",
       "194    0\n",
       "188    0\n",
       "      ..\n",
       "14     1\n",
       "4      1\n",
       "224    0\n",
       "202    0\n",
       "12     1\n",
       "Name: target, Length: 61, dtype: int64"
      ]
     },
     "execution_count": 45,
     "metadata": {},
     "output_type": "execute_result"
    }
   ],
   "source": [
    "y_test"
   ]
  },
  {
   "cell_type": "code",
   "execution_count": 46,
   "id": "55e1bc60",
   "metadata": {
    "execution": {
     "iopub.execute_input": "2023-04-12T11:54:23.202827Z",
     "iopub.status.busy": "2023-04-12T11:54:23.202285Z",
     "iopub.status.idle": "2023-04-12T11:54:23.489259Z",
     "shell.execute_reply": "2023-04-12T11:54:23.488357Z"
    },
    "papermill": {
     "duration": 0.31145,
     "end_time": "2023-04-12T11:54:23.491379",
     "exception": false,
     "start_time": "2023-04-12T11:54:23.179929",
     "status": "completed"
    },
    "tags": []
   },
   "outputs": [
    {
     "name": "stderr",
     "output_type": "stream",
     "text": [
      "/opt/conda/lib/python3.7/site-packages/sklearn/utils/deprecation.py:87: FutureWarning: Function plot_roc_curve is deprecated; Function :func:`plot_roc_curve` is deprecated in 1.0 and will be removed in 1.2. Use one of the class methods: :meth:`sklearn.metric.RocCurveDisplay.from_predictions` or :meth:`sklearn.metric.RocCurveDisplay.from_estimator`.\n",
      "  warnings.warn(msg, category=FutureWarning)\n"
     ]
    },
    {
     "data": {
      "text/plain": [
       "<sklearn.metrics._plot.roc_curve.RocCurveDisplay at 0x785f84ed6890>"
      ]
     },
     "execution_count": 46,
     "metadata": {},
     "output_type": "execute_result"
    },
    {
     "data": {
      "image/png": "[encoded data removed]",
      "text/plain": [
       "<Figure size 640x480 with 1 Axes>"
      ]
     },
     "metadata": {},
     "output_type": "display_data"
    }
   ],
   "source": [
    "#Plotting ROC curve and AUC\n",
    "\n",
    "plot_roc_curve(rs_rf , X_test , y_test , color ='green')"
   ]
  },
  {
   "cell_type": "code",
   "execution_count": 47,
   "id": "6b6d044e",
   "metadata": {
    "execution": {
     "iopub.execute_input": "2023-04-12T11:54:23.538306Z",
     "iopub.status.busy": "2023-04-12T11:54:23.537423Z",
     "iopub.status.idle": "2023-04-12T11:54:23.544209Z",
     "shell.execute_reply": "2023-04-12T11:54:23.542801Z"
    },
    "papermill": {
     "duration": 0.031987,
     "end_time": "2023-04-12T11:54:23.546269",
     "exception": false,
     "start_time": "2023-04-12T11:54:23.514282",
     "status": "completed"
    },
    "tags": []
   },
   "outputs": [
    {
     "name": "stdout",
     "output_type": "stream",
     "text": [
      "[[18 10]\n",
      " [ 1 32]]\n"
     ]
    }
   ],
   "source": [
    "print(confusion_matrix(y_test, y_preds))"
   ]
  },
  {
   "cell_type": "code",
   "execution_count": 48,
   "id": "f8a4fd0e",
   "metadata": {
    "execution": {
     "iopub.execute_input": "2023-04-12T11:54:23.592039Z",
     "iopub.status.busy": "2023-04-12T11:54:23.591211Z",
     "iopub.status.idle": "2023-04-12T11:54:23.818977Z",
     "shell.execute_reply": "2023-04-12T11:54:23.818091Z"
    },
    "papermill": {
     "duration": 0.253496,
     "end_time": "2023-04-12T11:54:23.821723",
     "exception": false,
     "start_time": "2023-04-12T11:54:23.568227",
     "status": "completed"
    },
    "tags": []
   },
   "outputs": [
    {
     "data": {
      "image/png": "[encoded data removed]",
      "text/plain": [
       "<Figure size 300x300 with 1 Axes>"
      ]
     },
     "metadata": {},
     "output_type": "display_data"
    }
   ],
   "source": [
    "sns.set(font_scale = 1.5)\n",
    "\n",
    "#Helper Function to plot confusion matrix\n",
    "\n",
    "def plot_conf_matrix(y_test, y_preds):\n",
    "    \"'Plots a graphical confusion matrix using Seaborn Heatmap'\"\n",
    "    \n",
    "    fig, ax = plt.subplots(figsize = (3,3))\n",
    "    ax = sns.heatmap(confusion_matrix(y_test, y_preds) , annot = True , cbar = False)\n",
    "    \n",
    "    plt.xlabel(\"True values\")\n",
    "    plt.ylabel(\"Predicted values\")\n",
    "    \n",
    "plot_conf_matrix(y_test , y_preds)"
   ]
  },
  {
   "cell_type": "code",
   "execution_count": 49,
   "id": "33ce480d",
   "metadata": {
    "execution": {
     "iopub.execute_input": "2023-04-12T11:54:23.886414Z",
     "iopub.status.busy": "2023-04-12T11:54:23.886069Z",
     "iopub.status.idle": "2023-04-12T11:54:23.895905Z",
     "shell.execute_reply": "2023-04-12T11:54:23.894965Z"
    },
    "papermill": {
     "duration": 0.035744,
     "end_time": "2023-04-12T11:54:23.897965",
     "exception": false,
     "start_time": "2023-04-12T11:54:23.862221",
     "status": "completed"
    },
    "tags": []
   },
   "outputs": [
    {
     "name": "stdout",
     "output_type": "stream",
     "text": [
      "              precision    recall  f1-score   support\n",
      "\n",
      "           0       0.95      0.64      0.77        28\n",
      "           1       0.76      0.97      0.85        33\n",
      "\n",
      "    accuracy                           0.82        61\n",
      "   macro avg       0.85      0.81      0.81        61\n",
      "weighted avg       0.85      0.82      0.81        61\n",
      "\n"
     ]
    }
   ],
   "source": [
    "print(classification_report(y_test, y_preds))"
   ]
  },
  {
   "cell_type": "code",
   "execution_count": null,
   "id": "cf86d6d1",
   "metadata": {
    "papermill": {
     "duration": 0.022152,
     "end_time": "2023-04-12T11:54:23.942719",
     "exception": false,
     "start_time": "2023-04-12T11:54:23.920567",
     "status": "completed"
    },
    "tags": []
   },
   "outputs": [],
   "source": []
  },
  {
   "cell_type": "markdown",
   "id": "df15dda4",
   "metadata": {
    "papermill": {
     "duration": 0.022498,
     "end_time": "2023-04-12T11:54:23.987464",
     "exception": false,
     "start_time": "2023-04-12T11:54:23.964966",
     "status": "completed"
    },
    "tags": []
   },
   "source": [
    "### Evaluation of the model using Cross Validation"
   ]
  },
  {
   "cell_type": "code",
   "execution_count": 50,
   "id": "637773db",
   "metadata": {
    "execution": {
     "iopub.execute_input": "2023-04-12T11:54:24.034181Z",
     "iopub.status.busy": "2023-04-12T11:54:24.033591Z",
     "iopub.status.idle": "2023-04-12T11:54:24.039874Z",
     "shell.execute_reply": "2023-04-12T11:54:24.038876Z"
    },
    "papermill": {
     "duration": 0.032108,
     "end_time": "2023-04-12T11:54:24.041881",
     "exception": false,
     "start_time": "2023-04-12T11:54:24.009773",
     "status": "completed"
    },
    "tags": []
   },
   "outputs": [
    {
     "data": {
      "text/plain": [
       "{'n_estimators': 710,\n",
       " 'min_samples_split': 13,\n",
       " 'min_samples_leaf': 4,\n",
       " 'max_depth': 10}"
      ]
     },
     "execution_count": 50,
     "metadata": {},
     "output_type": "execute_result"
    }
   ],
   "source": [
    "rs_rf.best_params_\n"
   ]
  },
  {
   "cell_type": "code",
   "execution_count": 51,
   "id": "fef261fe",
   "metadata": {
    "execution": {
     "iopub.execute_input": "2023-04-12T11:54:24.088711Z",
     "iopub.status.busy": "2023-04-12T11:54:24.087915Z",
     "iopub.status.idle": "2023-04-12T11:54:24.092922Z",
     "shell.execute_reply": "2023-04-12T11:54:24.091931Z"
    },
    "papermill": {
     "duration": 0.030807,
     "end_time": "2023-04-12T11:54:24.094949",
     "exception": false,
     "start_time": "2023-04-12T11:54:24.064142",
     "status": "completed"
    },
    "tags": []
   },
   "outputs": [],
   "source": [
    "classifier = RandomForestClassifier(n_estimators = 710,\n",
    "                                    min_samples_split = 13,\n",
    "                                    min_samples_leaf= 4,\n",
    "                                    max_depth = 10)"
   ]
  },
  {
   "cell_type": "code",
   "execution_count": 52,
   "id": "4575520e",
   "metadata": {
    "execution": {
     "iopub.execute_input": "2023-04-12T11:54:24.141511Z",
     "iopub.status.busy": "2023-04-12T11:54:24.141217Z",
     "iopub.status.idle": "2023-04-12T11:54:24.146684Z",
     "shell.execute_reply": "2023-04-12T11:54:24.145833Z"
    },
    "papermill": {
     "duration": 0.031699,
     "end_time": "2023-04-12T11:54:24.148867",
     "exception": false,
     "start_time": "2023-04-12T11:54:24.117168",
     "status": "completed"
    },
    "tags": []
   },
   "outputs": [],
   "source": [
    "clf = LogisticRegression(C = 0.23357214690901212 , solver = \"liblinear\" )"
   ]
  },
  {
   "cell_type": "code",
   "execution_count": 53,
   "id": "5744fa98",
   "metadata": {
    "execution": {
     "iopub.execute_input": "2023-04-12T11:54:24.195034Z",
     "iopub.status.busy": "2023-04-12T11:54:24.194756Z",
     "iopub.status.idle": "2023-04-12T11:54:29.000879Z",
     "shell.execute_reply": "2023-04-12T11:54:28.999879Z"
    },
    "papermill": {
     "duration": 4.832247,
     "end_time": "2023-04-12T11:54:29.003441",
     "exception": false,
     "start_time": "2023-04-12T11:54:24.171194",
     "status": "completed"
    },
    "tags": []
   },
   "outputs": [
    {
     "data": {
      "text/plain": [
       "0.828360655737705"
      ]
     },
     "execution_count": 53,
     "metadata": {},
     "output_type": "execute_result"
    }
   ],
   "source": [
    "cv_acc = cross_val_score(classifier , X , y , cv =5 , scoring = \"accuracy\")\n",
    "cv_acc = np.mean(cv_acc)\n",
    "cv_acc"
   ]
  },
  {
   "cell_type": "code",
   "execution_count": 54,
   "id": "632912a7",
   "metadata": {
    "execution": {
     "iopub.execute_input": "2023-04-12T11:54:29.051306Z",
     "iopub.status.busy": "2023-04-12T11:54:29.050992Z",
     "iopub.status.idle": "2023-04-12T11:54:33.600507Z",
     "shell.execute_reply": "2023-04-12T11:54:33.599339Z"
    },
    "papermill": {
     "duration": 4.575741,
     "end_time": "2023-04-12T11:54:33.602834",
     "exception": false,
     "start_time": "2023-04-12T11:54:29.027093",
     "status": "completed"
    },
    "tags": []
   },
   "outputs": [
    {
     "data": {
      "text/plain": [
       "0.8312576312576312"
      ]
     },
     "execution_count": 54,
     "metadata": {},
     "output_type": "execute_result"
    }
   ],
   "source": [
    "cv_precision = cross_val_score(classifier , X , y , cv =5 , scoring = \"precision\")\n",
    "cv_precision = np.mean(cv_precision)\n",
    "cv_precision"
   ]
  },
  {
   "cell_type": "code",
   "execution_count": 55,
   "id": "5bada28a",
   "metadata": {
    "execution": {
     "iopub.execute_input": "2023-04-12T11:54:33.653543Z",
     "iopub.status.busy": "2023-04-12T11:54:33.653217Z",
     "iopub.status.idle": "2023-04-12T11:54:39.025710Z",
     "shell.execute_reply": "2023-04-12T11:54:39.024339Z"
    },
    "papermill": {
     "duration": 5.402279,
     "end_time": "2023-04-12T11:54:39.028609",
     "exception": false,
     "start_time": "2023-04-12T11:54:33.626330",
     "status": "completed"
    },
    "tags": []
   },
   "outputs": [
    {
     "data": {
      "text/plain": [
       "0.8666666666666666"
      ]
     },
     "execution_count": 55,
     "metadata": {},
     "output_type": "execute_result"
    }
   ],
   "source": [
    "cv_recall = cross_val_score(classifier , X , y , cv =5 , scoring = \"recall\")\n",
    "cv_recall = np.mean(cv_recall)\n",
    "cv_recall"
   ]
  },
  {
   "cell_type": "code",
   "execution_count": 56,
   "id": "e5e2fc2e",
   "metadata": {
    "execution": {
     "iopub.execute_input": "2023-04-12T11:54:39.076987Z",
     "iopub.status.busy": "2023-04-12T11:54:39.076670Z",
     "iopub.status.idle": "2023-04-12T11:54:43.612438Z",
     "shell.execute_reply": "2023-04-12T11:54:43.611378Z"
    },
    "papermill": {
     "duration": 4.562179,
     "end_time": "2023-04-12T11:54:43.614899",
     "exception": false,
     "start_time": "2023-04-12T11:54:39.052720",
     "status": "completed"
    },
    "tags": []
   },
   "outputs": [
    {
     "data": {
      "text/plain": [
       "0.847657934329973"
      ]
     },
     "execution_count": 56,
     "metadata": {},
     "output_type": "execute_result"
    }
   ],
   "source": [
    "cv_f1 = cross_val_score(classifier , X , y , cv =5 , scoring = \"f1\")\n",
    "cv_f1 = np.mean(cv_f1)\n",
    "cv_f1"
   ]
  },
  {
   "cell_type": "markdown",
   "id": "786597cc",
   "metadata": {
    "papermill": {
     "duration": 0.023506,
     "end_time": "2023-04-12T11:54:43.662590",
     "exception": false,
     "start_time": "2023-04-12T11:54:43.639084",
     "status": "completed"
    },
    "tags": []
   },
   "source": [
    "### Important Features\n"
   ]
  },
  {
   "cell_type": "code",
   "execution_count": 57,
   "id": "f95125e1",
   "metadata": {
    "execution": {
     "iopub.execute_input": "2023-04-12T11:54:43.710306Z",
     "iopub.status.busy": "2023-04-12T11:54:43.709976Z",
     "iopub.status.idle": "2023-04-12T11:54:43.720825Z",
     "shell.execute_reply": "2023-04-12T11:54:43.719783Z"
    },
    "papermill": {
     "duration": 0.037254,
     "end_time": "2023-04-12T11:54:43.722922",
     "exception": false,
     "start_time": "2023-04-12T11:54:43.685668",
     "status": "completed"
    },
    "tags": []
   },
   "outputs": [
    {
     "data": {
      "text/plain": [
       "LogisticRegression(C=0.23357214690901212, solver='liblinear')"
      ]
     },
     "execution_count": 57,
     "metadata": {},
     "output_type": "execute_result"
    }
   ],
   "source": [
    "clf.fit(X_train, y_train)"
   ]
  },
  {
   "cell_type": "code",
   "execution_count": 58,
   "id": "270e1110",
   "metadata": {
    "execution": {
     "iopub.execute_input": "2023-04-12T11:54:43.770701Z",
     "iopub.status.busy": "2023-04-12T11:54:43.769776Z",
     "iopub.status.idle": "2023-04-12T11:54:43.776947Z",
     "shell.execute_reply": "2023-04-12T11:54:43.775787Z"
    },
    "papermill": {
     "duration": 0.033495,
     "end_time": "2023-04-12T11:54:43.779412",
     "exception": false,
     "start_time": "2023-04-12T11:54:43.745917",
     "status": "completed"
    },
    "tags": []
   },
   "outputs": [
    {
     "data": {
      "text/plain": [
       "array([[ 0.01069193, -0.8148039 ,  0.79877692, -0.00934758, -0.00674863,\n",
       "        -0.10775787,  0.30533587,  0.02938368, -0.59307528, -0.4886176 ,\n",
       "         0.33083335, -0.48037918, -0.75489816]])"
      ]
     },
     "execution_count": 58,
     "metadata": {},
     "output_type": "execute_result"
    }
   ],
   "source": [
    "clf.coef_"
   ]
  },
  {
   "cell_type": "code",
   "execution_count": 59,
   "id": "fa807046",
   "metadata": {
    "execution": {
     "iopub.execute_input": "2023-04-12T11:54:43.828722Z",
     "iopub.status.busy": "2023-04-12T11:54:43.828441Z",
     "iopub.status.idle": "2023-04-12T11:54:43.835195Z",
     "shell.execute_reply": "2023-04-12T11:54:43.834193Z"
    },
    "papermill": {
     "duration": 0.032996,
     "end_time": "2023-04-12T11:54:43.837222",
     "exception": false,
     "start_time": "2023-04-12T11:54:43.804226",
     "status": "completed"
    },
    "tags": []
   },
   "outputs": [
    {
     "data": {
      "text/plain": [
       "{'age': 0.010691931432572313,\n",
       " 'sex': -0.814803903049647,\n",
       " 'cp': 0.7987769196163983,\n",
       " 'trestbps': -0.009347583290568654,\n",
       " 'chol': -0.006748634265768441,\n",
       " 'fbs': -0.10775786779914008,\n",
       " 'restecg': 0.30533587493245834,\n",
       " 'thalach': 0.029383684686322083,\n",
       " 'exang': -0.5930752818433677,\n",
       " 'oldpeak': -0.48861759761794504,\n",
       " 'slope': 0.33083334516422686,\n",
       " 'ca': -0.480379177113873,\n",
       " 'thal': -0.7548981559102163}"
      ]
     },
     "execution_count": 59,
     "metadata": {},
     "output_type": "execute_result"
    }
   ],
   "source": [
    "feature_dict = dict(zip(df.columns , list(clf.coef_[0])))\n",
    "feature_dict"
   ]
  },
  {
   "cell_type": "code",
   "execution_count": 60,
   "id": "ce76d1ef",
   "metadata": {
    "execution": {
     "iopub.execute_input": "2023-04-12T11:54:43.885623Z",
     "iopub.status.busy": "2023-04-12T11:54:43.884699Z",
     "iopub.status.idle": "2023-04-12T11:54:44.181404Z",
     "shell.execute_reply": "2023-04-12T11:54:44.180327Z"
    },
    "papermill": {
     "duration": 0.323565,
     "end_time": "2023-04-12T11:54:44.184177",
     "exception": false,
     "start_time": "2023-04-12T11:54:43.860612",
     "status": "completed"
    },
    "tags": []
   },
   "outputs": [
    {
     "data": {
      "text/plain": [
       "<AxesSubplot:title={'center':'Feature correlation'}>"
      ]
     },
     "execution_count": 60,
     "metadata": {},
     "output_type": "execute_result"
    },
    {
     "data": {
      "image/png": "[encoded data removed]",
      "text/plain": [
       "<Figure size 640x480 with 1 Axes>"
      ]
     },
     "metadata": {},
     "output_type": "display_data"
    }
   ],
   "source": [
    "feature_df = pd.DataFrame(feature_dict , index = [0])\n",
    "feature_df.T.plot.bar(title = \"Feature correlation\" , legend  = False , color = 'lightblue')"
   ]
  },
  {
   "cell_type": "code",
   "execution_count": null,
   "id": "1f519dd3",
   "metadata": {
    "papermill": {
     "duration": 0.02535,
     "end_time": "2023-04-12T11:54:44.234617",
     "exception": false,
     "start_time": "2023-04-12T11:54:44.209267",
     "status": "completed"
    },
    "tags": []
   },
   "outputs": [],
   "source": []
  }
 ],
 "metadata": {
  "kernelspec": {
   "display_name": "Python 3",
   "language": "python",
   "name": "python3"
  },
  "language_info": {
   "codemirror_mode": {
    "name": "ipython",
    "version": 3
   },
   "file_extension": ".py",
   "mimetype": "text/x-python",
   "name": "python",
   "nbconvert_exporter": "python",
   "pygments_lexer": "ipython3",
   "version": "3.7.12"
  },
  "papermill": {
   "default_parameters": {},
   "duration": 109.8421,
   "end_time": "2023-04-12T11:54:46.877626",
   "environment_variables": {},
   "exception": null,
   "input_path": "__notebook__.ipynb",
   "output_path": "__notebook__.ipynb",
   "parameters": {},
   "start_time": "2023-04-12T11:52:57.035526",
   "version": "2.4.0"
  }
 },
 "nbformat": 4,
 "nbformat_minor": 5
}
